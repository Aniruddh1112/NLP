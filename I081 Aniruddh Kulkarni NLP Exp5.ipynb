{
 "cells": [
  {
   "cell_type": "markdown",
   "metadata": {
    "id": "DW3ZA93LZS39"
   },
   "source": [
    "# Name: Aniruddh Kulkarni                                                                                         "
   ]
  },
  {
   "cell_type": "markdown",
   "metadata": {},
   "source": [
    "# Roll no: I081 "
   ]
  },
  {
   "cell_type": "markdown",
   "metadata": {},
   "source": [
    "# Stream: CS (AI)  "
   ]
  },
  {
   "cell_type": "markdown",
   "metadata": {},
   "source": [
    "# Division: I                         "
   ]
  },
  {
   "cell_type": "markdown",
   "metadata": {},
   "source": [
    "# Semester: 5th Semester "
   ]
  },
  {
   "cell_type": "markdown",
   "metadata": {},
   "source": [
    "# Batch: I-3            "
   ]
  },
  {
   "cell_type": "markdown",
   "metadata": {},
   "source": [
    "# Subject: NLP"
   ]
  },
  {
   "cell_type": "markdown",
   "metadata": {},
   "source": [
    "# Assignment-5"
   ]
  },
  {
   "cell_type": "code",
   "execution_count": 1,
   "metadata": {
    "id": "tAFz9mlOZSWr"
   },
   "outputs": [],
   "source": [
    "from sklearn.preprocessing import LabelEncoder, OneHotEncoder\n",
    "import nltk"
   ]
  },
  {
   "cell_type": "code",
   "execution_count": 2,
   "metadata": {
    "id": "dYMZhXKXZTv9"
   },
   "outputs": [],
   "source": [
    "corpus = [\"NLP drives computer programs that translate text from one language to another, respond to spoken commands, and summarize large volumes of text rapidly—even in real time. There’s a good chance you’ve interacted with NLP in the form of voice-operated GPS systems, digital assistants, speech-to-text dictation software, customer service chatbots, and other consumer conveniences. But NLP also plays a growing role in enterprise solutions that help streamline business operations, increase employee productivity, and simplify mission-critical business processes.\"]\n",
    "\n",
    "#corpus = corpus.split()"
   ]
  },
  {
   "cell_type": "code",
   "execution_count": 3,
   "metadata": {
    "colab": {
     "base_uri": "https://localhost:8080/"
    },
    "id": "akNGybEDbh0z",
    "outputId": "2312dd39-0b06-4e96-9733-9a76c9aa9682"
   },
   "outputs": [
    {
     "name": "stdout",
     "output_type": "stream",
     "text": [
      "{'is', 'into', \"she's\", 'does', 'all', 'theirs', 't', 'as', 'about', 'them', 'their', 'while', 'having', 'i', 'an', \"you'll\", 'only', 'd', 'am', 'why', 'his', 'each', 'out', 'yourself', 'down', 'by', 'don', 'shan', 'until', 'during', 'couldn', 'such', \"you're\", 'but', \"hasn't\", 'your', 'too', 'mustn', 'between', 'will', 'him', 'yours', \"it's\", 'mightn', 'where', 'won', \"won't\", \"aren't\", \"shan't\", 'do', 'these', \"weren't\", 'when', 'because', 'has', 'with', 'below', 'most', 's', 'ourselves', 'after', 'at', 'itself', 'isn', 'we', 'being', 'y', 'have', 'o', 'wasn', 'they', 'under', \"isn't\", \"that'll\", 'off', 'any', 'that', 'up', 'further', \"shouldn't\", 'who', \"doesn't\", 'll', 'from', 'not', 'whom', 'own', 'yourselves', 'doesn', 're', 'himself', 'was', 'the', 'no', 'shouldn', 'just', 'she', 'needn', 'it', 'my', 'you', 'wouldn', 'before', 'themselves', 'both', 'how', 'didn', 'to', 'those', 'been', 'now', 'hadn', 'ma', 'then', 'he', 'once', 'over', \"wouldn't\", 'its', 'so', \"wasn't\", 'again', 'if', 'can', 'hers', 'm', 'were', 'had', 'of', 'which', \"you'd\", \"needn't\", 'nor', 'me', 'our', 'very', 'there', \"mustn't\", 'in', 'doing', 'haven', 'a', 'through', \"should've\", 'same', 'hasn', 'more', \"haven't\", 'ain', \"didn't\", 'weren', \"you've\", 'myself', 'than', 'above', 'did', 'this', 'some', 'ours', 'here', 'on', 'her', 'are', \"couldn't\", \"mightn't\", \"don't\", 'herself', 'and', 'for', 'aren', \"hadn't\", 'or', 'be', 'against', 'what', 'other', 've', 'should', 'few'}\n",
      "Tokenized corpus without stopwords: ['NLP drives computer programs that translate text from one language to another, respond to spoken commands, and summarize large volumes of text rapidly—even in real time. There’s a good chance you’ve interacted with NLP in the form of voice-operated GPS systems, digital assistants, speech-to-text dictation software, customer service chatbots, and other consumer conveniences. But NLP also plays a growing role in enterprise solutions that help streamline business operations, increase employee productivity, and simplify mission-critical business processes.']\n"
     ]
    },
    {
     "name": "stderr",
     "output_type": "stream",
     "text": [
      "[nltk_data] Downloading package stopwords to\n",
      "[nltk_data]     /Users/pushpakulkarni/nltk_data...\n",
      "[nltk_data]   Package stopwords is already up-to-date!\n",
      "[nltk_data] Downloading package punkt to\n",
      "[nltk_data]     /Users/pushpakulkarni/nltk_data...\n",
      "[nltk_data]   Package punkt is already up-to-date!\n"
     ]
    }
   ],
   "source": [
    "from nltk.corpus import stopwords\n",
    "nltk.download('stopwords')\n",
    "nltk.download('punkt')\n",
    "\n",
    "#initialize stopwords\n",
    "stop_words_nltk = set(stopwords.words('english'))\n",
    "print(stop_words_nltk)\n",
    "\n",
    "#stopword removal\n",
    "corpus2 = [i for i in corpus if not i in stop_words_nltk]\n",
    "print(\"Tokenized corpus without stopwords:\",corpus2)"
   ]
  },
  {
   "cell_type": "code",
   "execution_count": 4,
   "metadata": {
    "colab": {
     "base_uri": "https://localhost:8080/"
    },
    "id": "tigc_qIuc0QF",
    "outputId": "39d1f24c-a5ef-4a20-9346-dd1c8ce530dd"
   },
   "outputs": [
    {
     "name": "stdout",
     "output_type": "stream",
     "text": [
      "Len of Corpus before stopword removal:  1\n",
      "Len of Corpus after stopword removal:  1\n"
     ]
    }
   ],
   "source": [
    "print(\"Len of Corpus before stopword removal: \",len(corpus))\n",
    "print(\"Len of Corpus after stopword removal: \",len(corpus2))"
   ]
  },
  {
   "cell_type": "code",
   "execution_count": 5,
   "metadata": {
    "colab": {
     "base_uri": "https://localhost:8080/"
    },
    "id": "-ukqcwEvhv23",
    "outputId": "99531064-0cad-4496-c89d-10bbd2b871fb"
   },
   "outputs": [
    {
     "data": {
      "text/plain": [
       "['NLP',\n",
       " 'drives',\n",
       " 'computer',\n",
       " 'programs',\n",
       " 'translate',\n",
       " 'text',\n",
       " 'one',\n",
       " 'language',\n",
       " 'another,',\n",
       " 'respond',\n",
       " 'spoken',\n",
       " 'commands,',\n",
       " 'summarize',\n",
       " 'large',\n",
       " 'volumes',\n",
       " 'text',\n",
       " 'rapidly—even',\n",
       " 'real',\n",
       " 'time.',\n",
       " 'There’s',\n",
       " 'good',\n",
       " 'chance',\n",
       " 'you’ve',\n",
       " 'interacted',\n",
       " 'NLP',\n",
       " 'form',\n",
       " 'voice-operated',\n",
       " 'GPS',\n",
       " 'systems,',\n",
       " 'digital',\n",
       " 'assistants,',\n",
       " 'speech-to-text',\n",
       " 'dictation',\n",
       " 'software,',\n",
       " 'customer',\n",
       " 'service',\n",
       " 'chatbots,',\n",
       " 'consumer',\n",
       " 'conveniences.',\n",
       " 'But',\n",
       " 'NLP',\n",
       " 'also',\n",
       " 'plays',\n",
       " 'growing',\n",
       " 'role',\n",
       " 'enterprise',\n",
       " 'solutions',\n",
       " 'help',\n",
       " 'streamline',\n",
       " 'business',\n",
       " 'operations,',\n",
       " 'increase',\n",
       " 'employee',\n",
       " 'productivity,',\n",
       " 'simplify',\n",
       " 'mission-critical',\n",
       " 'business',\n",
       " 'processes.']"
      ]
     },
     "execution_count": 5,
     "metadata": {},
     "output_type": "execute_result"
    }
   ],
   "source": [
    "corpusn = \"NLP drives computer programs that translate text from one language to another, respond to spoken commands, and summarize large volumes of text rapidly—even in real time. There’s a good chance you’ve interacted with NLP in the form of voice-operated GPS systems, digital assistants, speech-to-text dictation software, customer service chatbots, and other consumer conveniences. But NLP also plays a growing role in enterprise solutions that help streamline business operations, increase employee productivity, and simplify mission-critical business processes.\"\n",
    "values = corpusn.split()\n",
    "values = [i for i in values if not i in stop_words_nltk]\n",
    "\n",
    "values"
   ]
  },
  {
   "cell_type": "code",
   "execution_count": 6,
   "metadata": {
    "colab": {
     "base_uri": "https://localhost:8080/"
    },
    "id": "AhIUBQi4gkvw",
    "outputId": "f3375d65-ce19-4c6b-f69b-9c6f6bf36c20"
   },
   "outputs": [
    {
     "data": {
      "text/plain": [
       "['NLP drives computer programs that translate text from one language to another, respond to spoken commands, and summarize large volumes of text rapidly—even in real time. There’s a good chance you’ve interacted with NLP in the form of voice-operated GPS systems, digital assistants, speech-to-text dictation software, customer service chatbots, and other consumer conveniences. But NLP also plays a growing role in enterprise solutions that help streamline business operations, increase employee productivity, and simplify mission-critical business processes.']"
      ]
     },
     "execution_count": 6,
     "metadata": {},
     "output_type": "execute_result"
    }
   ],
   "source": [
    "corpus2"
   ]
  },
  {
   "cell_type": "code",
   "execution_count": 7,
   "metadata": {
    "colab": {
     "base_uri": "https://localhost:8080/"
    },
    "id": "d--g9Rw7ZTy1",
    "outputId": "90ca1d23-67f0-47cf-f1ee-953b023dbc03"
   },
   "outputs": [
    {
     "name": "stdout",
     "output_type": "stream",
     "text": [
      "Label Encoded: [ 2 17 11 34 50 48 29 26  5 37 44 10 46 27 52 48 35 36 49  3 21  8 53 25\n",
      "  2 20 51  1 47 16  6 43 15 41 14 39  9 12 13  0  2  4 31 22 38 19 42 23\n",
      " 45  7 30 24 18 33 40 28  7 32]\n",
      "Onehot Encoded Matrix:\n",
      " [[1.]]\n"
     ]
    }
   ],
   "source": [
    "#Label Encoding\n",
    "label_encoder = LabelEncoder()\n",
    "integer_encoded = label_encoder.fit_transform(values)\n",
    "print(\"Label Encoded:\",integer_encoded)\n",
    "\n",
    "\n",
    "\n",
    "#One-Hot Encoding\n",
    "onehot_encoder = OneHotEncoder()\n",
    "onehot_encoded = onehot_encoder.fit_transform([corpus2]).toarray()\n",
    "print(\"Onehot Encoded Matrix:\\n\",onehot_encoded)"
   ]
  },
  {
   "cell_type": "code",
   "execution_count": 8,
   "metadata": {
    "colab": {
     "base_uri": "https://localhost:8080/"
    },
    "id": "4fSqUromZT1V",
    "outputId": "7f49bff6-0da9-4c9b-f974-1b774b05e226"
   },
   "outputs": [
    {
     "data": {
      "text/plain": [
       "['nlp drives computer programs that translate text from one language to another, respond to spoken commands, and summarize large volumes of text rapidly—even in real time there’s a good chance you’ve interacted with nlp in the form of voice-operated gps systems, digital assistants, speech-to-text dictation software, customer service chatbots, and other consumer conveniences but nlp also plays a growing role in enterprise solutions that help streamline business operations, increase employee productivity, and simplify mission-critical business processes']"
      ]
     },
     "execution_count": 8,
     "metadata": {},
     "output_type": "execute_result"
    }
   ],
   "source": [
    "#BOW\n",
    "processed_docs = [doc.lower().replace(\".\",\"\") for doc in corpus2]\n",
    "processed_docs"
   ]
  },
  {
   "cell_type": "code",
   "execution_count": 9,
   "metadata": {
    "colab": {
     "base_uri": "https://localhost:8080/"
    },
    "id": "6A--aVOxZT4C",
    "outputId": "7d67536b-9bff-4cf9-c415-31c8e389e0de"
   },
   "outputs": [
    {
     "name": "stdout",
     "output_type": "stream",
     "text": [
      "Our corpus:  ['NLP drives computer programs that translate text from one language to another, respond to spoken commands, and summarize large volumes of text rapidly—even in real time. There’s a good chance you’ve interacted with NLP in the form of voice-operated GPS systems, digital assistants, speech-to-text dictation software, customer service chatbots, and other consumer conveniences. But NLP also plays a growing role in enterprise solutions that help streamline business operations, increase employee productivity, and simplify mission-critical business processes.']\n",
      "Our vocabulary:  {'nlp': 32, 'drives': 16, 'computer': 9, 'programs': 41, 'that': 56, 'translate': 61, 'text': 55, 'from': 21, 'one': 34, 'language': 29, 'to': 60, 'another': 2, 'respond': 44, 'spoken': 51, 'commands': 8, 'and': 1, 'summarize': 53, 'large': 30, 'volumes': 64, 'of': 33, 'rapidly': 42, 'even': 19, 'in': 26, 'real': 43, 'time': 59, 'there': 58, 'good': 22, 'chance': 6, 'you': 66, 've': 62, 'interacted': 28, 'with': 65, 'the': 57, 'form': 20, 'voice': 63, 'operated': 35, 'gps': 23, 'systems': 54, 'digital': 15, 'assistants': 3, 'speech': 50, 'dictation': 14, 'software': 48, 'customer': 13, 'service': 46, 'chatbots': 7, 'other': 37, 'consumer': 10, 'conveniences': 11, 'but': 5, 'also': 0, 'plays': 38, 'growing': 24, 'role': 45, 'enterprise': 18, 'solutions': 49, 'help': 25, 'streamline': 52, 'business': 4, 'operations': 36, 'increase': 27, 'employee': 17, 'productivity': 40, 'simplify': 47, 'mission': 31, 'critical': 12, 'processes': 39}\n"
     ]
    }
   ],
   "source": [
    "from sklearn.feature_extraction.text import CountVectorizer\n",
    "#look at the documents list\n",
    "print(\"Our corpus: \", corpus2)\n",
    "count_vect = CountVectorizer()\n",
    "#Build a BOW representation for the corpus\n",
    "bow_rep = count_vect.fit_transform(processed_docs)\n",
    "\n",
    "#Look at the vocabulary mapping\n",
    "print(\"Our vocabulary: \", count_vect.vocabulary_)"
   ]
  },
  {
   "cell_type": "code",
   "execution_count": 10,
   "metadata": {
    "colab": {
     "base_uri": "https://localhost:8080/"
    },
    "id": "kNX9DCTfZT6s",
    "outputId": "e6c0bf7e-f9fd-4d4c-ed10-41a9d6a34dbd"
   },
   "outputs": [
    {
     "name": "stdout",
     "output_type": "stream",
     "text": [
      "BoW representation :  [[1 3 1 1 2 1 1 1 1 1 1 1 1 1 1 1 1 1 1 1 1 1 1 1 1 1 3 1 1 1 1 1 3 2 1 1\n",
      "  1 1 1 1 1 1 1 1 1 1 1 1 1 1 1 1 1 1 1 3 2 1 1 1 3 1 1 1 1 1 1]]\n"
     ]
    }
   ],
   "source": [
    "#see the BOW rep for the document\n",
    "print(\"BoW representation : \", bow_rep[0].toarray())"
   ]
  },
  {
   "cell_type": "code",
   "execution_count": 11,
   "metadata": {
    "colab": {
     "base_uri": "https://localhost:8080/"
    },
    "id": "77KtEPP6ZT8_",
    "outputId": "63d0e506-b995-4434-da9c-908a898ac450"
   },
   "outputs": [
    {
     "name": "stdout",
     "output_type": "stream",
     "text": [
      "Bow representation for 'NLP helps in language translation': [[0 0 0 0 0 0 0 0 0 0 0 0 0 0 0 0 0 0 0 0 0 0 0 0 0 0 1 0 0 1 0 0 1 0 0 0\n",
      "  0 0 0 0 0 0 0 0 0 0 0 0 0 0 0 0 0 0 0 0 0 0 0 0 0 0 0 0 0 0 0]]\n"
     ]
    }
   ],
   "source": [
    "#Get the representation using this vocabulary, for a new text\n",
    "temp = count_vect.transform([\"NLP helps in language translation\"])\n",
    "print(\"Bow representation for 'NLP helps in language translation':\", temp.toarray())"
   ]
  },
  {
   "cell_type": "code",
   "execution_count": 12,
   "metadata": {
    "colab": {
     "base_uri": "https://localhost:8080/"
    },
    "id": "T1ZAfOhhZT_b",
    "outputId": "76b7560b-84bb-44fc-bc1b-1f4ab4207942"
   },
   "outputs": [
    {
     "name": "stdout",
     "output_type": "stream",
     "text": [
      "Our vocabulary:  {'nlp': 105, 'drives': 53, 'computer': 32, 'programs': 136, 'that': 185, 'translate': 206, 'text': 178, 'from': 68, 'one': 117, 'language': 96, 'to': 199, 'another': 10, 'respond': 145, 'spoken': 166, 'commands': 29, 'and': 3, 'summarize': 172, 'large': 99, 'volumes': 215, 'of': 112, 'rapidly': 139, 'even': 62, 'in': 83, 'real': 142, 'time': 196, 'there': 193, 'good': 71, 'chance': 23, 'you': 221, 've': 209, 'interacted': 93, 'with': 218, 'the': 190, 'form': 65, 'voice': 212, 'operated': 120, 'gps': 74, 'systems': 175, 'digital': 50, 'assistants': 13, 'speech': 163, 'dictation': 47, 'software': 157, 'customer': 44, 'service': 151, 'chatbots': 26, 'other': 126, 'consumer': 35, 'conveniences': 38, 'but': 20, 'also': 0, 'plays': 129, 'growing': 77, 'role': 148, 'enterprise': 59, 'solutions': 160, 'help': 80, 'streamline': 169, 'business': 16, 'operations': 123, 'increase': 90, 'employee': 56, 'productivity': 133, 'simplify': 154, 'mission': 102, 'critical': 41, 'processes': 132, 'nlp drives': 108, 'drives computer': 54, 'computer programs': 33, 'programs that': 137, 'that translate': 188, 'translate text': 207, 'text from': 181, 'from one': 69, 'one language': 118, 'language to': 97, 'to another': 200, 'another respond': 11, 'respond to': 146, 'to spoken': 202, 'spoken commands': 167, 'commands and': 30, 'and summarize': 8, 'summarize large': 173, 'large volumes': 100, 'volumes of': 216, 'of text': 113, 'text rapidly': 183, 'rapidly even': 140, 'even in': 63, 'in real': 86, 'real time': 143, 'time there': 197, 'there good': 194, 'good chance': 72, 'chance you': 24, 'you ve': 222, 've interacted': 210, 'interacted with': 94, 'with nlp': 219, 'nlp in': 110, 'in the': 88, 'the form': 191, 'form of': 66, 'of voice': 115, 'voice operated': 213, 'operated gps': 121, 'gps systems': 75, 'systems digital': 176, 'digital assistants': 51, 'assistants speech': 14, 'speech to': 164, 'to text': 204, 'text dictation': 179, 'dictation software': 48, 'software customer': 158, 'customer service': 45, 'service chatbots': 152, 'chatbots and': 27, 'and other': 4, 'other consumer': 127, 'consumer conveniences': 36, 'conveniences but': 39, 'but nlp': 21, 'nlp also': 106, 'also plays': 1, 'plays growing': 130, 'growing role': 78, 'role in': 149, 'in enterprise': 84, 'enterprise solutions': 60, 'solutions that': 161, 'that help': 186, 'help streamline': 81, 'streamline business': 170, 'business operations': 17, 'operations increase': 124, 'increase employee': 91, 'employee productivity': 57, 'productivity and': 134, 'and simplify': 6, 'simplify mission': 155, 'mission critical': 103, 'critical business': 42, 'business processes': 19, 'nlp drives computer': 109, 'drives computer programs': 55, 'computer programs that': 34, 'programs that translate': 138, 'that translate text': 189, 'translate text from': 208, 'text from one': 182, 'from one language': 70, 'one language to': 119, 'language to another': 98, 'to another respond': 201, 'another respond to': 12, 'respond to spoken': 147, 'to spoken commands': 203, 'spoken commands and': 168, 'commands and summarize': 31, 'and summarize large': 9, 'summarize large volumes': 174, 'large volumes of': 101, 'volumes of text': 217, 'of text rapidly': 114, 'text rapidly even': 184, 'rapidly even in': 141, 'even in real': 64, 'in real time': 87, 'real time there': 144, 'time there good': 198, 'there good chance': 195, 'good chance you': 73, 'chance you ve': 25, 'you ve interacted': 223, 've interacted with': 211, 'interacted with nlp': 95, 'with nlp in': 220, 'nlp in the': 111, 'in the form': 89, 'the form of': 192, 'form of voice': 67, 'of voice operated': 116, 'voice operated gps': 214, 'operated gps systems': 122, 'gps systems digital': 76, 'systems digital assistants': 177, 'digital assistants speech': 52, 'assistants speech to': 15, 'speech to text': 165, 'to text dictation': 205, 'text dictation software': 180, 'dictation software customer': 49, 'software customer service': 159, 'customer service chatbots': 46, 'service chatbots and': 153, 'chatbots and other': 28, 'and other consumer': 5, 'other consumer conveniences': 128, 'consumer conveniences but': 37, 'conveniences but nlp': 40, 'but nlp also': 22, 'nlp also plays': 107, 'also plays growing': 2, 'plays growing role': 131, 'growing role in': 79, 'role in enterprise': 150, 'in enterprise solutions': 85, 'enterprise solutions that': 61, 'solutions that help': 162, 'that help streamline': 187, 'help streamline business': 82, 'streamline business operations': 171, 'business operations increase': 18, 'operations increase employee': 125, 'increase employee productivity': 92, 'employee productivity and': 58, 'productivity and simplify': 135, 'and simplify mission': 7, 'simplify mission critical': 156, 'mission critical business': 104, 'critical business processes': 43}\n",
      "BoW representation:  [[1 1 1 3 1 1 1 1 1 1 1 1 1 1 1 1 2 1 1 1 1 1 1 1 1 1 1 1 1 1 1 1 1 1 1 1\n",
      "  1 1 1 1 1 1 1 1 1 1 1 1 1 1 1 1 1 1 1 1 1 1 1 1 1 1 1 1 1 1 1 1 1 1 1 1\n",
      "  1 1 1 1 1 1 1 1 1 1 1 3 1 1 1 1 1 1 1 1 1 1 1 1 1 1 1 1 1 1 1 1 1 3 1 1\n",
      "  1 1 1 1 2 1 1 1 1 1 1 1 1 1 1 1 1 1 1 1 1 1 1 1 1 1 1 1 1 1 1 1 1 1 1 1\n",
      "  1 1 1 1 1 1 1 1 1 1 1 1 1 1 1 1 1 1 1 1 1 1 1 1 1 1 1 1 1 1 1 1 1 1 3 1\n",
      "  1 1 1 1 1 2 1 1 1 1 1 1 1 1 1 1 1 1 1 3 1 1 1 1 1 1 1 1 1 1 1 1 1 1 1 1\n",
      "  1 1 1 1 1 1 1 1]]\n",
      "Bow representation for 'NLP helps in language translation': [[0 0 0 0 0 0 0 0 0 0 0 0 0 0 0 0 0 0 0 0 0 0 0 0 0 0 0 0 0 0 0 0 0 0 0 0\n",
      "  0 0 0 0 0 0 0 0 0 0 0 0 0 0 0 0 0 0 0 0 0 0 0 0 0 0 0 0 0 0 0 0 0 0 0 0\n",
      "  0 0 0 0 0 0 0 0 0 0 0 1 0 0 0 0 0 0 0 0 0 0 0 0 1 0 0 0 0 0 0 0 0 1 0 0\n",
      "  0 0 0 0 0 0 0 0 0 0 0 0 0 0 0 0 0 0 0 0 0 0 0 0 0 0 0 0 0 0 0 0 0 0 0 0\n",
      "  0 0 0 0 0 0 0 0 0 0 0 0 0 0 0 0 0 0 0 0 0 0 0 0 0 0 0 0 0 0 0 0 0 0 0 0\n",
      "  0 0 0 0 0 0 0 0 0 0 0 0 0 0 0 0 0 0 0 0 0 0 0 0 0 0 0 0 0 0 0 0 0 0 0 0\n",
      "  0 0 0 0 0 0 0 0]]\n"
     ]
    }
   ],
   "source": [
    "from sklearn.feature_extraction.text import CountVectorizer\n",
    "\n",
    "#Ngram vectorization example with count vectorizer and uni, bi, trigrams\n",
    "count_vect = CountVectorizer(ngram_range=(1,3))\n",
    "\n",
    "#Build a BOW representation for the corpus\n",
    "bow_rep = count_vect.fit_transform(processed_docs)\n",
    "\n",
    "#Look at the vocabulary mapping\n",
    "print(\"Our vocabulary: \", count_vect.vocabulary_)\n",
    "\n",
    "#see the BOW rep for first 2 documents\n",
    "print(\"BoW representation: \", bow_rep[0].toarray())\n",
    "\n",
    "#Get the representation using this vocabulary, for a new text\n",
    "temp = count_vect.transform([\"NLP helps in language translation\"])\n",
    "\n",
    "print(\"Bow representation for 'NLP helps in language translation':\", temp.toarray())"
   ]
  },
  {
   "cell_type": "code",
   "execution_count": 13,
   "metadata": {
    "colab": {
     "base_uri": "https://localhost:8080/"
    },
    "id": "XOnnTVIrZUB3",
    "outputId": "f1adb133-4a4a-4de6-bdc4-7f4e7797872e"
   },
   "outputs": [
    {
     "name": "stdout",
     "output_type": "stream",
     "text": [
      "IDF for all words in the vocabulary [1. 1. 1. 1. 1. 1. 1. 1. 1. 1. 1. 1. 1. 1. 1. 1. 1. 1. 1. 1. 1. 1. 1. 1.\n",
      " 1. 1. 1. 1. 1. 1. 1. 1. 1. 1. 1. 1. 1. 1. 1. 1. 1. 1. 1. 1. 1. 1. 1. 1.\n",
      " 1. 1. 1. 1. 1. 1. 1. 1. 1. 1. 1. 1. 1. 1. 1. 1. 1. 1. 1.]\n",
      "----------\n",
      "All words in the vocabulary ['also', 'and', 'another', 'assistants', 'business', 'but', 'chance', 'chatbots', 'commands', 'computer', 'consumer', 'conveniences', 'critical', 'customer', 'dictation', 'digital', 'drives', 'employee', 'enterprise', 'even', 'form', 'from', 'good', 'gps', 'growing', 'help', 'in', 'increase', 'interacted', 'language', 'large', 'mission', 'nlp', 'of', 'one', 'operated', 'operations', 'other', 'plays', 'processes', 'productivity', 'programs', 'rapidly', 'real', 'respond', 'role', 'service', 'simplify', 'software', 'solutions', 'speech', 'spoken', 'streamline', 'summarize', 'systems', 'text', 'that', 'the', 'there', 'time', 'to', 'translate', 've', 'voice', 'volumes', 'with', 'you']\n",
      "----------\n",
      "TFIDF representation for  our corpus\n",
      " [[0.09284767 0.27854301 0.09284767 0.09284767 0.18569534 0.09284767\n",
      "  0.09284767 0.09284767 0.09284767 0.09284767 0.09284767 0.09284767\n",
      "  0.09284767 0.09284767 0.09284767 0.09284767 0.09284767 0.09284767\n",
      "  0.09284767 0.09284767 0.09284767 0.09284767 0.09284767 0.09284767\n",
      "  0.09284767 0.09284767 0.27854301 0.09284767 0.09284767 0.09284767\n",
      "  0.09284767 0.09284767 0.27854301 0.18569534 0.09284767 0.09284767\n",
      "  0.09284767 0.09284767 0.09284767 0.09284767 0.09284767 0.09284767\n",
      "  0.09284767 0.09284767 0.09284767 0.09284767 0.09284767 0.09284767\n",
      "  0.09284767 0.09284767 0.09284767 0.09284767 0.09284767 0.09284767\n",
      "  0.09284767 0.27854301 0.18569534 0.09284767 0.09284767 0.09284767\n",
      "  0.27854301 0.09284767 0.09284767 0.09284767 0.09284767 0.09284767\n",
      "  0.09284767]]\n",
      "----------\n",
      "Tfidf representation for 'NLP with ML helps in language processing':\n",
      " [[0.  0.  0.  0.  0.  0.  0.  0.  0.  0.  0.  0.  0.  0.  0.  0.  0.  0.\n",
      "  0.  0.  0.  0.  0.  0.  0.  0.  0.5 0.  0.  0.5 0.  0.  0.5 0.  0.  0.\n",
      "  0.  0.  0.  0.  0.  0.  0.  0.  0.  0.  0.  0.  0.  0.  0.  0.  0.  0.\n",
      "  0.  0.  0.  0.  0.  0.  0.  0.  0.  0.  0.  0.5 0. ]]\n"
     ]
    },
    {
     "name": "stderr",
     "output_type": "stream",
     "text": [
      "/Users/pushpakulkarni/opt/anaconda3/lib/python3.9/site-packages/sklearn/utils/deprecation.py:87: FutureWarning: Function get_feature_names is deprecated; get_feature_names is deprecated in 1.0 and will be removed in 1.2. Please use get_feature_names_out instead.\n",
      "  warnings.warn(msg, category=FutureWarning)\n"
     ]
    }
   ],
   "source": [
    "from sklearn.feature_extraction.text import TfidfVectorizer\n",
    "\n",
    "tfidf = TfidfVectorizer()\n",
    "bow_rep_tfidf = tfidf.fit_transform(processed_docs)\n",
    "\n",
    "#IDF for all words in the vocabulary\n",
    "print(\"IDF for all words in the vocabulary\",tfidf.idf_)\n",
    "print(\"-\"*10)\n",
    "#All words in the vocabulary.\n",
    "print(\"All words in the vocabulary\",tfidf.get_feature_names())\n",
    "print(\"-\"*10)\n",
    "\n",
    "#TFIDF representation for all documents in our corpus \n",
    "print(\"TFIDF representation for  our corpus\\n\",bow_rep_tfidf.toarray()) \n",
    "print(\"-\"*10)\n",
    "\n",
    "temp = tfidf.transform([\"NLP with ML helps in language processing\"])\n",
    "print(\"Tfidf representation for 'NLP with ML helps in language processing':\\n\", temp.toarray())"
   ]
  },
  {
   "cell_type": "markdown",
   "metadata": {
    "id": "RxFAp7wmTJJL"
   },
   "source": [
    "# Conclsuion\n",
    "1) Thus we can infer that TF-IDF is more effective and better for ML models as it has less sparsity.                      \n",
    "2) The reason for why TF-IDF is better is because BoW & Bag of n grams they might capture some context and be more readable, but their feature vector has huge sparsity. And for ML models we need least number of dimensions for efficient processing.                        \n",
    "3) Even though text cleaning, pre processing, stop words removal is done, the feature vectors of OHE, LE, BoW,Bag of n grams are sparse because it gives all words in a text equal importance. Whereas TF-IDF  makes rare words more prominent and effectively ignores common words. It is closely related to frequency-based filters but much more mathematically elegant than placing hard cutoff thresholds.This makes the feature vector a bit less sparse and thus gives better performance while training the model."
   ]
  }
 ],
 "metadata": {
  "colab": {
   "provenance": []
  },
  "kernelspec": {
   "display_name": "Python 3 (ipykernel)",
   "language": "python",
   "name": "python3"
  },
  "language_info": {
   "codemirror_mode": {
    "name": "ipython",
    "version": 3
   },
   "file_extension": ".py",
   "mimetype": "text/x-python",
   "name": "python",
   "nbconvert_exporter": "python",
   "pygments_lexer": "ipython3",
   "version": "3.9.13"
  }
 },
 "nbformat": 4,
 "nbformat_minor": 1
}
