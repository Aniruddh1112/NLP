{
 "cells": [
  {
   "cell_type": "markdown",
   "metadata": {
    "id": "nxJctacVbg21"
   },
   "source": [
    "# Name: Aniruddh Kulkarni    \n",
    "# Roll no: I081          \n",
    "# Stream: CS (AI)      \n",
    "# Division: I                         \n",
    "# Semester: 5th Semester                                           \n",
    "# Batch: I-3            \n",
    "# Subject: NLP\n",
    "# Assignment-9"
   ]
  },
  {
   "cell_type": "markdown",
   "metadata": {
    "id": "gVVWN-I3lirW"
   },
   "source": [
    "# I) Web Scraping"
   ]
  },
  {
   "cell_type": "code",
   "execution_count": 1,
   "metadata": {
    "colab": {
     "base_uri": "https://localhost:8080/",
     "height": 415
    },
    "id": "6R6tiPzHba8O",
    "outputId": "77051782-d4c2-4ed9-f44a-2074c3279c59"
   },
   "outputs": [
    {
     "name": "stdout",
     "output_type": "stream",
     "text": [
      "Collecting numpy==1.19.5\n",
      "  Using cached numpy-1.19.5.zip (7.3 MB)\n",
      "  Installing build dependencies ... \u001b[?25ldone\n",
      "\u001b[?25h  Getting requirements to build wheel ... \u001b[?25ldone\n",
      "\u001b[?25h  Preparing metadata (pyproject.toml) ... \u001b[?25lerror\n",
      "  \u001b[1;31merror\u001b[0m: \u001b[1msubprocess-exited-with-error\u001b[0m\n",
      "  \n",
      "  \u001b[31m×\u001b[0m \u001b[32mPreparing metadata \u001b[0m\u001b[1;32m(\u001b[0m\u001b[32mpyproject.toml\u001b[0m\u001b[1;32m)\u001b[0m did not run successfully.\n",
      "  \u001b[31m│\u001b[0m exit code: \u001b[1;36m1\u001b[0m\n",
      "  \u001b[31m╰─>\u001b[0m \u001b[31m[255 lines of output]\u001b[0m\n",
      "  \u001b[31m   \u001b[0m setup.py:67: RuntimeWarning: NumPy 1.19.5 may not yet support Python 3.10.\n",
      "  \u001b[31m   \u001b[0m   warnings.warn(\n",
      "  \u001b[31m   \u001b[0m Running from numpy source directory.\n",
      "  \u001b[31m   \u001b[0m setup.py:480: UserWarning: Unrecognized setuptools command, proceeding with generating Cython sources and expanding templates\n",
      "  \u001b[31m   \u001b[0m   run_build = parse_setuppy_commands()\n",
      "  \u001b[31m   \u001b[0m Processing numpy/random/_bounded_integers.pxd.in\n",
      "  \u001b[31m   \u001b[0m Processing numpy/random/_philox.pyx\n",
      "  \u001b[31m   \u001b[0m Processing numpy/random/_bounded_integers.pyx.in\n",
      "  \u001b[31m   \u001b[0m Processing numpy/random/_sfc64.pyx\n",
      "  \u001b[31m   \u001b[0m Processing numpy/random/_mt19937.pyx\n",
      "  \u001b[31m   \u001b[0m Processing numpy/random/bit_generator.pyx\n",
      "  \u001b[31m   \u001b[0m Processing numpy/random/mtrand.pyx\n",
      "  \u001b[31m   \u001b[0m Processing numpy/random/_generator.pyx\n",
      "  \u001b[31m   \u001b[0m Processing numpy/random/_pcg64.pyx\n",
      "  \u001b[31m   \u001b[0m Processing numpy/random/_common.pyx\n",
      "  \u001b[31m   \u001b[0m Cythonizing sources\n",
      "  \u001b[31m   \u001b[0m blas_opt_info:\n",
      "  \u001b[31m   \u001b[0m blas_mkl_info:\n",
      "  \u001b[31m   \u001b[0m customize UnixCCompiler\n",
      "  \u001b[31m   \u001b[0m   libraries mkl_rt not found in ['/Users/pushpakulkarni/miniconda3/lib', '/usr/local/lib', '/usr/lib']\n",
      "  \u001b[31m   \u001b[0m   NOT AVAILABLE\n",
      "  \u001b[31m   \u001b[0m \n",
      "  \u001b[31m   \u001b[0m blis_info:\n",
      "  \u001b[31m   \u001b[0m   libraries blis not found in ['/Users/pushpakulkarni/miniconda3/lib', '/usr/local/lib', '/usr/lib']\n",
      "  \u001b[31m   \u001b[0m   NOT AVAILABLE\n",
      "  \u001b[31m   \u001b[0m \n",
      "  \u001b[31m   \u001b[0m openblas_info:\n",
      "  \u001b[31m   \u001b[0m C compiler: clang -Wno-unused-result -Wsign-compare -Wunreachable-code -DNDEBUG -fwrapv -O2 -Wall -fPIC -O2 -isystem /Users/pushpakulkarni/miniconda3/include -arch arm64 -fPIC -O2 -isystem /Users/pushpakulkarni/miniconda3/include -arch arm64\n",
      "  \u001b[31m   \u001b[0m \n",
      "  \u001b[31m   \u001b[0m creating /var/folders/w7/x95pzq4s5s1f44mr9jmxg5_m0000gn/T/tmpapo6wsl_/var\n",
      "  \u001b[31m   \u001b[0m creating /var/folders/w7/x95pzq4s5s1f44mr9jmxg5_m0000gn/T/tmpapo6wsl_/var/folders\n",
      "  \u001b[31m   \u001b[0m creating /var/folders/w7/x95pzq4s5s1f44mr9jmxg5_m0000gn/T/tmpapo6wsl_/var/folders/w7\n",
      "  \u001b[31m   \u001b[0m creating /var/folders/w7/x95pzq4s5s1f44mr9jmxg5_m0000gn/T/tmpapo6wsl_/var/folders/w7/x95pzq4s5s1f44mr9jmxg5_m0000gn\n",
      "  \u001b[31m   \u001b[0m creating /var/folders/w7/x95pzq4s5s1f44mr9jmxg5_m0000gn/T/tmpapo6wsl_/var/folders/w7/x95pzq4s5s1f44mr9jmxg5_m0000gn/T\n",
      "  \u001b[31m   \u001b[0m creating /var/folders/w7/x95pzq4s5s1f44mr9jmxg5_m0000gn/T/tmpapo6wsl_/var/folders/w7/x95pzq4s5s1f44mr9jmxg5_m0000gn/T/tmpapo6wsl_\n",
      "  \u001b[31m   \u001b[0m compile options: '-c'\n",
      "  \u001b[31m   \u001b[0m clang: /var/folders/w7/x95pzq4s5s1f44mr9jmxg5_m0000gn/T/tmpapo6wsl_/source.c\n",
      "  \u001b[31m   \u001b[0m clang /var/folders/w7/x95pzq4s5s1f44mr9jmxg5_m0000gn/T/tmpapo6wsl_/var/folders/w7/x95pzq4s5s1f44mr9jmxg5_m0000gn/T/tmpapo6wsl_/source.o -L/Users/pushpakulkarni/miniconda3/lib -lopenblas -o /var/folders/w7/x95pzq4s5s1f44mr9jmxg5_m0000gn/T/tmpapo6wsl_/a.out\n",
      "  \u001b[31m   \u001b[0m ld: warning: ignoring file /Users/pushpakulkarni/miniconda3/lib/libopenblas.dylib, building for macOS-x86_64 but attempting to link with file built for macOS-arm64\n",
      "  \u001b[31m   \u001b[0m ld: warning: ignoring file /var/folders/w7/x95pzq4s5s1f44mr9jmxg5_m0000gn/T/tmpapo6wsl_/var/folders/w7/x95pzq4s5s1f44mr9jmxg5_m0000gn/T/tmpapo6wsl_/source.o, building for macOS-x86_64 but attempting to link with file built for unknown-arm64\n",
      "  \u001b[31m   \u001b[0m Undefined symbols for architecture x86_64:\n",
      "  \u001b[31m   \u001b[0m   \"_main\", referenced from:\n",
      "  \u001b[31m   \u001b[0m      implicit entry/start for main executable\n",
      "  \u001b[31m   \u001b[0m ld: symbol(s) not found for architecture x86_64\n",
      "  \u001b[31m   \u001b[0m clang: error: linker command failed with exit code 1 (use -v to see invocation)\n",
      "  \u001b[31m   \u001b[0m   NOT AVAILABLE\n",
      "  \u001b[31m   \u001b[0m \n",
      "  \u001b[31m   \u001b[0m atlas_3_10_blas_threads_info:\n",
      "  \u001b[31m   \u001b[0m Setting PTATLAS=ATLAS\n",
      "  \u001b[31m   \u001b[0m   libraries tatlas not found in ['/Users/pushpakulkarni/miniconda3/lib', '/usr/local/lib', '/usr/lib']\n",
      "  \u001b[31m   \u001b[0m   NOT AVAILABLE\n",
      "  \u001b[31m   \u001b[0m \n",
      "  \u001b[31m   \u001b[0m atlas_3_10_blas_info:\n",
      "  \u001b[31m   \u001b[0m   libraries satlas not found in ['/Users/pushpakulkarni/miniconda3/lib', '/usr/local/lib', '/usr/lib']\n",
      "  \u001b[31m   \u001b[0m   NOT AVAILABLE\n",
      "  \u001b[31m   \u001b[0m \n",
      "  \u001b[31m   \u001b[0m atlas_blas_threads_info:\n",
      "  \u001b[31m   \u001b[0m Setting PTATLAS=ATLAS\n",
      "  \u001b[31m   \u001b[0m   libraries ptf77blas,ptcblas,atlas not found in ['/Users/pushpakulkarni/miniconda3/lib', '/usr/local/lib', '/usr/lib']\n",
      "  \u001b[31m   \u001b[0m   NOT AVAILABLE\n",
      "  \u001b[31m   \u001b[0m \n",
      "  \u001b[31m   \u001b[0m atlas_blas_info:\n",
      "  \u001b[31m   \u001b[0m   libraries f77blas,cblas,atlas not found in ['/Users/pushpakulkarni/miniconda3/lib', '/usr/local/lib', '/usr/lib']\n",
      "  \u001b[31m   \u001b[0m   NOT AVAILABLE\n",
      "  \u001b[31m   \u001b[0m \n",
      "  \u001b[31m   \u001b[0m accelerate_info:\n",
      "  \u001b[31m   \u001b[0m   libraries accelerate not found in ['/Users/pushpakulkarni/miniconda3/lib', '/usr/local/lib', '/usr/lib']\n",
      "  \u001b[31m   \u001b[0m Library accelerate was not found. Ignoring\n",
      "  \u001b[31m   \u001b[0m   libraries veclib not found in ['/Users/pushpakulkarni/miniconda3/lib', '/usr/local/lib', '/usr/lib']\n",
      "  \u001b[31m   \u001b[0m Library veclib was not found. Ignoring\n",
      "  \u001b[31m   \u001b[0m   FOUND:\n",
      "  \u001b[31m   \u001b[0m     extra_compile_args = ['-msse3', '-I/System/Library/Frameworks/vecLib.framework/Headers']\n",
      "  \u001b[31m   \u001b[0m     extra_link_args = ['-Wl,-framework', '-Wl,Accelerate']\n",
      "  \u001b[31m   \u001b[0m     define_macros = [('NO_ATLAS_INFO', 3), ('HAVE_CBLAS', None)]\n",
      "  \u001b[31m   \u001b[0m \n",
      "  \u001b[31m   \u001b[0m   FOUND:\n",
      "  \u001b[31m   \u001b[0m     extra_compile_args = ['-msse3', '-I/System/Library/Frameworks/vecLib.framework/Headers']\n",
      "  \u001b[31m   \u001b[0m     extra_link_args = ['-Wl,-framework', '-Wl,Accelerate']\n",
      "  \u001b[31m   \u001b[0m     define_macros = [('NO_ATLAS_INFO', 3), ('HAVE_CBLAS', None)]\n",
      "  \u001b[31m   \u001b[0m \n",
      "  \u001b[31m   \u001b[0m non-existing path in 'numpy/distutils': 'site.cfg'\n",
      "  \u001b[31m   \u001b[0m lapack_opt_info:\n",
      "  \u001b[31m   \u001b[0m lapack_mkl_info:\n",
      "  \u001b[31m   \u001b[0m   libraries mkl_rt not found in ['/Users/pushpakulkarni/miniconda3/lib', '/usr/local/lib', '/usr/lib']\n",
      "  \u001b[31m   \u001b[0m   NOT AVAILABLE\n",
      "  \u001b[31m   \u001b[0m \n",
      "  \u001b[31m   \u001b[0m openblas_lapack_info:\n",
      "  \u001b[31m   \u001b[0m C compiler: clang -Wno-unused-result -Wsign-compare -Wunreachable-code -DNDEBUG -fwrapv -O2 -Wall -fPIC -O2 -isystem /Users/pushpakulkarni/miniconda3/include -arch arm64 -fPIC -O2 -isystem /Users/pushpakulkarni/miniconda3/include -arch arm64\n",
      "  \u001b[31m   \u001b[0m \n",
      "  \u001b[31m   \u001b[0m creating /var/folders/w7/x95pzq4s5s1f44mr9jmxg5_m0000gn/T/tmpiecysbsj/var\n",
      "  \u001b[31m   \u001b[0m creating /var/folders/w7/x95pzq4s5s1f44mr9jmxg5_m0000gn/T/tmpiecysbsj/var/folders\n",
      "  \u001b[31m   \u001b[0m creating /var/folders/w7/x95pzq4s5s1f44mr9jmxg5_m0000gn/T/tmpiecysbsj/var/folders/w7\n",
      "  \u001b[31m   \u001b[0m creating /var/folders/w7/x95pzq4s5s1f44mr9jmxg5_m0000gn/T/tmpiecysbsj/var/folders/w7/x95pzq4s5s1f44mr9jmxg5_m0000gn\n",
      "  \u001b[31m   \u001b[0m creating /var/folders/w7/x95pzq4s5s1f44mr9jmxg5_m0000gn/T/tmpiecysbsj/var/folders/w7/x95pzq4s5s1f44mr9jmxg5_m0000gn/T\n",
      "  \u001b[31m   \u001b[0m creating /var/folders/w7/x95pzq4s5s1f44mr9jmxg5_m0000gn/T/tmpiecysbsj/var/folders/w7/x95pzq4s5s1f44mr9jmxg5_m0000gn/T/tmpiecysbsj\n",
      "  \u001b[31m   \u001b[0m compile options: '-c'\n",
      "  \u001b[31m   \u001b[0m clang: /var/folders/w7/x95pzq4s5s1f44mr9jmxg5_m0000gn/T/tmpiecysbsj/source.c\n",
      "  \u001b[31m   \u001b[0m clang /var/folders/w7/x95pzq4s5s1f44mr9jmxg5_m0000gn/T/tmpiecysbsj/var/folders/w7/x95pzq4s5s1f44mr9jmxg5_m0000gn/T/tmpiecysbsj/source.o -L/Users/pushpakulkarni/miniconda3/lib -lopenblas -o /var/folders/w7/x95pzq4s5s1f44mr9jmxg5_m0000gn/T/tmpiecysbsj/a.out\n",
      "  \u001b[31m   \u001b[0m ld: warning: ignoring file /var/folders/w7/x95pzq4s5s1f44mr9jmxg5_m0000gn/T/tmpiecysbsj/var/folders/w7/x95pzq4s5s1f44mr9jmxg5_m0000gn/T/tmpiecysbsj/source.o, building for macOS-x86_64 but attempting to link with file built for unknown-arm64\n",
      "  \u001b[31m   \u001b[0m ld: warning: ignoring file /Users/pushpakulkarni/miniconda3/lib/libopenblas.dylib, building for macOS-x86_64 but attempting to link with file built for macOS-arm64\n",
      "  \u001b[31m   \u001b[0m Undefined symbols for architecture x86_64:\n",
      "  \u001b[31m   \u001b[0m   \"_main\", referenced from:\n",
      "  \u001b[31m   \u001b[0m      implicit entry/start for main executable\n",
      "  \u001b[31m   \u001b[0m ld: symbol(s) not found for architecture x86_64\n",
      "  \u001b[31m   \u001b[0m clang: error: linker command failed with exit code 1 (use -v to see invocation)\n",
      "  \u001b[31m   \u001b[0m   NOT AVAILABLE\n",
      "  \u001b[31m   \u001b[0m \n",
      "  \u001b[31m   \u001b[0m openblas_clapack_info:\n",
      "  \u001b[31m   \u001b[0m C compiler: clang -Wno-unused-result -Wsign-compare -Wunreachable-code -DNDEBUG -fwrapv -O2 -Wall -fPIC -O2 -isystem /Users/pushpakulkarni/miniconda3/include -arch arm64 -fPIC -O2 -isystem /Users/pushpakulkarni/miniconda3/include -arch arm64\n",
      "  \u001b[31m   \u001b[0m \n",
      "  \u001b[31m   \u001b[0m creating /var/folders/w7/x95pzq4s5s1f44mr9jmxg5_m0000gn/T/tmpf7elyo_e/var\n",
      "  \u001b[31m   \u001b[0m creating /var/folders/w7/x95pzq4s5s1f44mr9jmxg5_m0000gn/T/tmpf7elyo_e/var/folders\n",
      "  \u001b[31m   \u001b[0m creating /var/folders/w7/x95pzq4s5s1f44mr9jmxg5_m0000gn/T/tmpf7elyo_e/var/folders/w7\n",
      "  \u001b[31m   \u001b[0m creating /var/folders/w7/x95pzq4s5s1f44mr9jmxg5_m0000gn/T/tmpf7elyo_e/var/folders/w7/x95pzq4s5s1f44mr9jmxg5_m0000gn\n",
      "  \u001b[31m   \u001b[0m creating /var/folders/w7/x95pzq4s5s1f44mr9jmxg5_m0000gn/T/tmpf7elyo_e/var/folders/w7/x95pzq4s5s1f44mr9jmxg5_m0000gn/T\n",
      "  \u001b[31m   \u001b[0m creating /var/folders/w7/x95pzq4s5s1f44mr9jmxg5_m0000gn/T/tmpf7elyo_e/var/folders/w7/x95pzq4s5s1f44mr9jmxg5_m0000gn/T/tmpf7elyo_e\n",
      "  \u001b[31m   \u001b[0m compile options: '-c'\n",
      "  \u001b[31m   \u001b[0m clang: /var/folders/w7/x95pzq4s5s1f44mr9jmxg5_m0000gn/T/tmpf7elyo_e/source.c\n",
      "  \u001b[31m   \u001b[0m clang /var/folders/w7/x95pzq4s5s1f44mr9jmxg5_m0000gn/T/tmpf7elyo_e/var/folders/w7/x95pzq4s5s1f44mr9jmxg5_m0000gn/T/tmpf7elyo_e/source.o -L/Users/pushpakulkarni/miniconda3/lib -lopenblas -llapack -o /var/folders/w7/x95pzq4s5s1f44mr9jmxg5_m0000gn/T/tmpf7elyo_e/a.out\n",
      "  \u001b[31m   \u001b[0m ld: warning: ignoring file /Users/pushpakulkarni/miniconda3/lib/liblapack.dylib, building for macOS-x86_64 but attempting to link with file built for macOS-arm64\n",
      "  \u001b[31m   \u001b[0m ld: warning: ignoring file /var/folders/w7/x95pzq4s5s1f44mr9jmxg5_m0000gn/T/tmpf7elyo_e/var/folders/w7/x95pzq4s5s1f44mr9jmxg5_m0000gn/T/tmpf7elyo_e/source.o, building for macOS-x86_64 but attempting to link with file built for unknown-arm64\n",
      "  \u001b[31m   \u001b[0m ld: warning: ignoring file /Users/pushpakulkarni/miniconda3/lib/libopenblas.dylib, building for macOS-x86_64 but attempting to link with file built for macOS-arm64\n",
      "  \u001b[31m   \u001b[0m Undefined symbols for architecture x86_64:\n",
      "  \u001b[31m   \u001b[0m   \"_main\", referenced from:\n",
      "  \u001b[31m   \u001b[0m      implicit entry/start for main executable\n",
      "  \u001b[31m   \u001b[0m ld: symbol(s) not found for architecture x86_64\n",
      "  \u001b[31m   \u001b[0m clang: error: linker command failed with exit code 1 (use -v to see invocation)\n",
      "  \u001b[31m   \u001b[0m   NOT AVAILABLE\n",
      "  \u001b[31m   \u001b[0m \n",
      "  \u001b[31m   \u001b[0m flame_info:\n",
      "  \u001b[31m   \u001b[0m   libraries flame not found in ['/Users/pushpakulkarni/miniconda3/lib', '/usr/local/lib', '/usr/lib']\n",
      "  \u001b[31m   \u001b[0m   NOT AVAILABLE\n",
      "  \u001b[31m   \u001b[0m \n",
      "  \u001b[31m   \u001b[0m atlas_3_10_threads_info:\n",
      "  \u001b[31m   \u001b[0m Setting PTATLAS=ATLAS\n",
      "  \u001b[31m   \u001b[0m   libraries lapack_atlas not found in /Users/pushpakulkarni/miniconda3/lib\n",
      "  \u001b[31m   \u001b[0m   libraries tatlas,tatlas not found in /Users/pushpakulkarni/miniconda3/lib\n",
      "  \u001b[31m   \u001b[0m   libraries lapack_atlas not found in /usr/local/lib\n",
      "  \u001b[31m   \u001b[0m   libraries tatlas,tatlas not found in /usr/local/lib\n",
      "  \u001b[31m   \u001b[0m   libraries lapack_atlas not found in /usr/lib\n",
      "  \u001b[31m   \u001b[0m   libraries tatlas,tatlas not found in /usr/lib\n",
      "  \u001b[31m   \u001b[0m <class 'numpy.distutils.system_info.atlas_3_10_threads_info'>\n",
      "  \u001b[31m   \u001b[0m   NOT AVAILABLE\n",
      "  \u001b[31m   \u001b[0m \n",
      "  \u001b[31m   \u001b[0m atlas_3_10_info:\n",
      "  \u001b[31m   \u001b[0m   libraries lapack_atlas not found in /Users/pushpakulkarni/miniconda3/lib\n",
      "  \u001b[31m   \u001b[0m   libraries satlas,satlas not found in /Users/pushpakulkarni/miniconda3/lib\n",
      "  \u001b[31m   \u001b[0m   libraries lapack_atlas not found in /usr/local/lib\n",
      "  \u001b[31m   \u001b[0m   libraries satlas,satlas not found in /usr/local/lib\n",
      "  \u001b[31m   \u001b[0m   libraries lapack_atlas not found in /usr/lib\n",
      "  \u001b[31m   \u001b[0m   libraries satlas,satlas not found in /usr/lib\n",
      "  \u001b[31m   \u001b[0m <class 'numpy.distutils.system_info.atlas_3_10_info'>\n",
      "  \u001b[31m   \u001b[0m   NOT AVAILABLE\n",
      "  \u001b[31m   \u001b[0m \n",
      "  \u001b[31m   \u001b[0m atlas_threads_info:\n",
      "  \u001b[31m   \u001b[0m Setting PTATLAS=ATLAS\n",
      "  \u001b[31m   \u001b[0m   libraries lapack_atlas not found in /Users/pushpakulkarni/miniconda3/lib\n",
      "  \u001b[31m   \u001b[0m   libraries ptf77blas,ptcblas,atlas not found in /Users/pushpakulkarni/miniconda3/lib\n",
      "  \u001b[31m   \u001b[0m   libraries lapack_atlas not found in /usr/local/lib\n",
      "  \u001b[31m   \u001b[0m   libraries ptf77blas,ptcblas,atlas not found in /usr/local/lib\n",
      "  \u001b[31m   \u001b[0m   libraries lapack_atlas not found in /usr/lib\n",
      "  \u001b[31m   \u001b[0m   libraries ptf77blas,ptcblas,atlas not found in /usr/lib\n",
      "  \u001b[31m   \u001b[0m <class 'numpy.distutils.system_info.atlas_threads_info'>\n",
      "  \u001b[31m   \u001b[0m   NOT AVAILABLE\n",
      "  \u001b[31m   \u001b[0m \n",
      "  \u001b[31m   \u001b[0m atlas_info:\n",
      "  \u001b[31m   \u001b[0m   libraries lapack_atlas not found in /Users/pushpakulkarni/miniconda3/lib\n",
      "  \u001b[31m   \u001b[0m   libraries f77blas,cblas,atlas not found in /Users/pushpakulkarni/miniconda3/lib\n",
      "  \u001b[31m   \u001b[0m   libraries lapack_atlas not found in /usr/local/lib\n",
      "  \u001b[31m   \u001b[0m   libraries f77blas,cblas,atlas not found in /usr/local/lib\n",
      "  \u001b[31m   \u001b[0m   libraries lapack_atlas not found in /usr/lib\n",
      "  \u001b[31m   \u001b[0m   libraries f77blas,cblas,atlas not found in /usr/lib\n",
      "  \u001b[31m   \u001b[0m <class 'numpy.distutils.system_info.atlas_info'>\n",
      "  \u001b[31m   \u001b[0m   NOT AVAILABLE\n",
      "  \u001b[31m   \u001b[0m \n",
      "  \u001b[31m   \u001b[0m   FOUND:\n",
      "  \u001b[31m   \u001b[0m     extra_compile_args = ['-msse3', '-I/System/Library/Frameworks/vecLib.framework/Headers']\n",
      "  \u001b[31m   \u001b[0m     extra_link_args = ['-Wl,-framework', '-Wl,Accelerate']\n",
      "  \u001b[31m   \u001b[0m     define_macros = [('NO_ATLAS_INFO', 3), ('HAVE_CBLAS', None)]\n",
      "  \u001b[31m   \u001b[0m \n",
      "  \u001b[31m   \u001b[0m /private/var/folders/w7/x95pzq4s5s1f44mr9jmxg5_m0000gn/T/pip-build-env-alq35yrg/overlay/lib/python3.10/site-packages/setuptools/_distutils/dist.py:275: UserWarning: Unknown distribution option: 'define_macros'\n",
      "  \u001b[31m   \u001b[0m   warnings.warn(msg)\n",
      "  \u001b[31m   \u001b[0m running dist_info\n",
      "  \u001b[31m   \u001b[0m running build_src\n",
      "  \u001b[31m   \u001b[0m build_src\n",
      "  \u001b[31m   \u001b[0m building py_modules sources\n",
      "  \u001b[31m   \u001b[0m creating build\n",
      "  \u001b[31m   \u001b[0m creating build/src.macosx-11.1-arm64-3.10\n",
      "  \u001b[31m   \u001b[0m creating build/src.macosx-11.1-arm64-3.10/numpy\n",
      "  \u001b[31m   \u001b[0m creating build/src.macosx-11.1-arm64-3.10/numpy/distutils\n",
      "  \u001b[31m   \u001b[0m building library \"npymath\" sources\n",
      "  \u001b[31m   \u001b[0m Could not locate executable gfortran\n",
      "  \u001b[31m   \u001b[0m Could not locate executable f95\n",
      "  \u001b[31m   \u001b[0m Could not locate executable f90\n",
      "  \u001b[31m   \u001b[0m Could not locate executable f77\n",
      "  \u001b[31m   \u001b[0m Could not locate executable xlf90\n",
      "  \u001b[31m   \u001b[0m Could not locate executable xlf\n",
      "  \u001b[31m   \u001b[0m Could not locate executable ifort\n",
      "  \u001b[31m   \u001b[0m Could not locate executable ifc\n",
      "  \u001b[31m   \u001b[0m Could not locate executable g77\n",
      "  \u001b[31m   \u001b[0m Could not locate executable g95\n",
      "  \u001b[31m   \u001b[0m Could not locate executable pgfortran\n",
      "  \u001b[31m   \u001b[0m don't know how to compile Fortran code on platform 'posix'\n",
      "  \u001b[31m   \u001b[0m ld: warning: ignoring file _configtest.o, building for macOS-x86_64 but attempting to link with file built for unknown-arm64\n",
      "  \u001b[31m   \u001b[0m Undefined symbols for architecture x86_64:\n",
      "  \u001b[31m   \u001b[0m   \"_main\", referenced from:\n",
      "  \u001b[31m   \u001b[0m      implicit entry/start for main executable\n",
      "  \u001b[31m   \u001b[0m ld: symbol(s) not found for architecture x86_64\n",
      "  \u001b[31m   \u001b[0m clang: error: linker command failed with exit code 1 (use -v to see invocation)\n",
      "  \u001b[31m   \u001b[0m Traceback (most recent call last):\n",
      "  \u001b[31m   \u001b[0m   File \"/Users/pushpakulkarni/miniconda3/lib/python3.10/site-packages/pip/_vendor/pyproject_hooks/_in_process/_in_process.py\", line 353, in <module>\n",
      "  \u001b[31m   \u001b[0m     main()\n",
      "  \u001b[31m   \u001b[0m   File \"/Users/pushpakulkarni/miniconda3/lib/python3.10/site-packages/pip/_vendor/pyproject_hooks/_in_process/_in_process.py\", line 335, in main\n",
      "  \u001b[31m   \u001b[0m     json_out['return_val'] = hook(**hook_input['kwargs'])\n",
      "  \u001b[31m   \u001b[0m   File \"/Users/pushpakulkarni/miniconda3/lib/python3.10/site-packages/pip/_vendor/pyproject_hooks/_in_process/_in_process.py\", line 149, in prepare_metadata_for_build_wheel\n",
      "  \u001b[31m   \u001b[0m     return hook(metadata_directory, config_settings)\n",
      "  \u001b[31m   \u001b[0m   File \"/private/var/folders/w7/x95pzq4s5s1f44mr9jmxg5_m0000gn/T/pip-build-env-alq35yrg/overlay/lib/python3.10/site-packages/setuptools/build_meta.py\", line 157, in prepare_metadata_for_build_wheel\n",
      "  \u001b[31m   \u001b[0m     self.run_setup()\n",
      "  \u001b[31m   \u001b[0m   File \"/private/var/folders/w7/x95pzq4s5s1f44mr9jmxg5_m0000gn/T/pip-build-env-alq35yrg/overlay/lib/python3.10/site-packages/setuptools/build_meta.py\", line 248, in run_setup\n",
      "  \u001b[31m   \u001b[0m     super(_BuildMetaLegacyBackend,\n",
      "  \u001b[31m   \u001b[0m   File \"/private/var/folders/w7/x95pzq4s5s1f44mr9jmxg5_m0000gn/T/pip-build-env-alq35yrg/overlay/lib/python3.10/site-packages/setuptools/build_meta.py\", line 142, in run_setup\n",
      "  \u001b[31m   \u001b[0m     exec(compile(code, __file__, 'exec'), locals())\n",
      "  \u001b[31m   \u001b[0m   File \"setup.py\", line 508, in <module>\n",
      "  \u001b[31m   \u001b[0m     setup_package()\n",
      "  \u001b[31m   \u001b[0m   File \"setup.py\", line 500, in setup_package\n",
      "  \u001b[31m   \u001b[0m     setup(**metadata)\n",
      "  \u001b[31m   \u001b[0m   File \"/private/var/folders/w7/x95pzq4s5s1f44mr9jmxg5_m0000gn/T/pip-install-38e1rjd6/numpy_5856890b9140438ab30afbde04f55194/numpy/distutils/core.py\", line 169, in setup\n",
      "  \u001b[31m   \u001b[0m     return old_setup(**new_attr)\n",
      "  \u001b[31m   \u001b[0m   File \"/private/var/folders/w7/x95pzq4s5s1f44mr9jmxg5_m0000gn/T/pip-build-env-alq35yrg/overlay/lib/python3.10/site-packages/setuptools/__init__.py\", line 165, in setup\n",
      "  \u001b[31m   \u001b[0m     return distutils.core.setup(**attrs)\n",
      "  \u001b[31m   \u001b[0m   File \"/private/var/folders/w7/x95pzq4s5s1f44mr9jmxg5_m0000gn/T/pip-build-env-alq35yrg/overlay/lib/python3.10/site-packages/setuptools/_distutils/core.py\", line 148, in setup\n",
      "  \u001b[31m   \u001b[0m     dist.run_commands()\n",
      "  \u001b[31m   \u001b[0m   File \"/private/var/folders/w7/x95pzq4s5s1f44mr9jmxg5_m0000gn/T/pip-build-env-alq35yrg/overlay/lib/python3.10/site-packages/setuptools/_distutils/dist.py\", line 967, in run_commands\n",
      "  \u001b[31m   \u001b[0m     self.run_command(cmd)\n",
      "  \u001b[31m   \u001b[0m   File \"/private/var/folders/w7/x95pzq4s5s1f44mr9jmxg5_m0000gn/T/pip-build-env-alq35yrg/overlay/lib/python3.10/site-packages/setuptools/_distutils/dist.py\", line 986, in run_command\n",
      "  \u001b[31m   \u001b[0m     cmd_obj.run()\n",
      "  \u001b[31m   \u001b[0m   File \"/private/var/folders/w7/x95pzq4s5s1f44mr9jmxg5_m0000gn/T/pip-build-env-alq35yrg/overlay/lib/python3.10/site-packages/setuptools/command/dist_info.py\", line 31, in run\n",
      "  \u001b[31m   \u001b[0m     egg_info.run()\n",
      "  \u001b[31m   \u001b[0m   File \"/private/var/folders/w7/x95pzq4s5s1f44mr9jmxg5_m0000gn/T/pip-install-38e1rjd6/numpy_5856890b9140438ab30afbde04f55194/numpy/distutils/command/egg_info.py\", line 24, in run\n",
      "  \u001b[31m   \u001b[0m     self.run_command(\"build_src\")\n",
      "  \u001b[31m   \u001b[0m   File \"/private/var/folders/w7/x95pzq4s5s1f44mr9jmxg5_m0000gn/T/pip-build-env-alq35yrg/overlay/lib/python3.10/site-packages/setuptools/_distutils/cmd.py\", line 313, in run_command\n",
      "  \u001b[31m   \u001b[0m     self.distribution.run_command(command)\n",
      "  \u001b[31m   \u001b[0m   File \"/private/var/folders/w7/x95pzq4s5s1f44mr9jmxg5_m0000gn/T/pip-build-env-alq35yrg/overlay/lib/python3.10/site-packages/setuptools/_distutils/dist.py\", line 986, in run_command\n",
      "  \u001b[31m   \u001b[0m     cmd_obj.run()\n",
      "  \u001b[31m   \u001b[0m   File \"/private/var/folders/w7/x95pzq4s5s1f44mr9jmxg5_m0000gn/T/pip-install-38e1rjd6/numpy_5856890b9140438ab30afbde04f55194/numpy/distutils/command/build_src.py\", line 144, in run\n",
      "  \u001b[31m   \u001b[0m     self.build_sources()\n",
      "  \u001b[31m   \u001b[0m   File \"/private/var/folders/w7/x95pzq4s5s1f44mr9jmxg5_m0000gn/T/pip-install-38e1rjd6/numpy_5856890b9140438ab30afbde04f55194/numpy/distutils/command/build_src.py\", line 155, in build_sources\n",
      "  \u001b[31m   \u001b[0m     self.build_library_sources(*libname_info)\n",
      "  \u001b[31m   \u001b[0m   File \"/private/var/folders/w7/x95pzq4s5s1f44mr9jmxg5_m0000gn/T/pip-install-38e1rjd6/numpy_5856890b9140438ab30afbde04f55194/numpy/distutils/command/build_src.py\", line 288, in build_library_sources\n",
      "  \u001b[31m   \u001b[0m     sources = self.generate_sources(sources, (lib_name, build_info))\n",
      "  \u001b[31m   \u001b[0m   File \"/private/var/folders/w7/x95pzq4s5s1f44mr9jmxg5_m0000gn/T/pip-install-38e1rjd6/numpy_5856890b9140438ab30afbde04f55194/numpy/distutils/command/build_src.py\", line 378, in generate_sources\n",
      "  \u001b[31m   \u001b[0m     source = func(extension, build_dir)\n",
      "  \u001b[31m   \u001b[0m   File \"numpy/core/setup.py\", line 663, in get_mathlib_info\n",
      "  \u001b[31m   \u001b[0m     raise RuntimeError(\"Broken toolchain: cannot link a simple C program\")\n",
      "  \u001b[31m   \u001b[0m RuntimeError: Broken toolchain: cannot link a simple C program\n",
      "  \u001b[31m   \u001b[0m \u001b[31m[end of output]\u001b[0m\n",
      "  \n",
      "  \u001b[1;35mnote\u001b[0m: This error originates from a subprocess, and is likely not a problem with pip.\n",
      "\u001b[1;31merror\u001b[0m: \u001b[1mmetadata-generation-failed\u001b[0m\n",
      "\n",
      "\u001b[31m×\u001b[0m Encountered error while generating package metadata.\n",
      "\u001b[31m╰─>\u001b[0m See above for output.\n",
      "\n",
      "\u001b[1;35mnote\u001b[0m: This is an issue with the package mentioned above, not pip.\n",
      "\u001b[1;36mhint\u001b[0m: See above for details.\n"
     ]
    },
    {
     "name": "stdout",
     "output_type": "stream",
     "text": [
      "\u001b[?25hRequirement already satisfied: beautifulsoup4==4.6.3 in /Users/pushpakulkarni/miniconda3/lib/python3.10/site-packages (4.6.3)\n"
     ]
    }
   ],
   "source": [
    "!pip install numpy==1.19.5\n",
    "!pip install beautifulsoup4==4.6.3"
   ]
  },
  {
   "cell_type": "code",
   "execution_count": 2,
   "metadata": {
    "id": "7qBX586Cbp3C"
   },
   "outputs": [],
   "source": [
    "# making the necessary imports\n",
    "from pprint import pprint\n",
    "from bs4 import BeautifulSoup\n",
    "from urllib.request import urlopen "
   ]
  },
  {
   "cell_type": "code",
   "execution_count": 3,
   "metadata": {
    "id": "lm2NPKkabp5k"
   },
   "outputs": [],
   "source": [
    "myurl = \"https://old.reddit.com/r/datascience\" # specify the url\n",
    "html = urlopen(myurl).read() # query the website so that it returns a html page  \n",
    "soupified = BeautifulSoup(html, 'html.parser') # parse the html in the 'html' variable, and store it in Beautiful Soup format"
   ]
  },
  {
   "cell_type": "code",
   "execution_count": 4,
   "metadata": {
    "colab": {
     "base_uri": "https://localhost:8080/"
    },
    "id": "gfxuVtK0bp8M",
    "outputId": "faec470e-3122-44cd-8c1d-5b96f5e952d5"
   },
   "outputs": [
    {
     "name": "stdout",
     "output_type": "stream",
     "text": [
      "('<!DOCTYPE html>\\n'\n",
      " '<html lang=\"en\" xml:lang=\"en\" xmlns=\"http://www.w3.org/1999/xhtml\">\\n'\n",
      " ' <head>\\n'\n",
      " '  <title>\\n'\n",
      " '   Data Science\\n'\n",
      " '  </title>\\n'\n",
      " '  <meta content=\" reddit, reddit.com, vote, comment, submit \" '\n",
      " 'name=\"keywords\"/>\\n'\n",
      " '  <meta content=\"A place for data science practitioners and professionals to '\n",
      " 'discuss and debate data science career questions.\" name=\"description\"/>\\n'\n",
      " '  <meta content=\"always\" name=\"referrer\"/>\\n'\n",
      " '  <meta content=\"text/html; charset=utf-8\" http-equiv=\"Content-Type\">\\n'\n",
      " '   <link href=\"/static/opensearch.xml\" rel=\"search\" '\n",
      " 'type=\"application/opensearchdescription+xml\"/>\\n'\n",
      " '   <link href=\"https://www.reddit.com/r/datascience/\" rel=\"canonical\"/>\\n'\n",
      " '   <meta content=\"width=1024\" name=\"viewport\"/>\\n'\n",
      " '   <link href=\"//out.reddit.com\" rel=\"dns-prefetch\"/>\\n'\n",
      " '   <link href=\"//out.reddit.com\" rel=\"preconnect\"/>\\n'\n",
      " '   <meta '\n",
      " 'content=\"https://styles.redditmedia.com/t5_2sptq/styles/communityIcon_fdj8zurrifa71.png\" '\n",
      " 'property=\"og:image\"/>\\n'\n",
      " '   <meta content=\"reddit\" property=\"og:site_name\"/>\\n'\n",
      " '   <meta content=\"A place for data science practitioners and professionals '\n",
      " 'to discuss and debate data science career questions.\" '\n",
      " 'property=\"og:description\"/>\\n'\n",
      " '   <meta content=\"Data Science • r/datascience\" property=\"og:title\"/>\\n'\n",
      " '   <meta content=\"com.reddit.frontpage\" property=\"al:android:package\"/>\\n'\n",
      " '   <meta content=\"Reddit\" property=\"al:ios:app_name\"/>\\n'\n",
      " '   <meta content=\"reddit://www.reddit.com/r/datascience/\" '\n",
      " 'property=\"al:ios:url\"/>\\n'\n",
      " '   <meta content=\"1064216828\" property=\"al:ios:app_store_id\"/>\\n'\n",
      " '   <meta content=\"reddit\" property=\"twitter:site\"/>\\n'\n",
      " '   <meta content=\"summary\" property=\"twitter:card\"/>\\n'\n",
      " '   <meta content=\"Data Science • r/datascience\" property=\"twitter:title\"/>\\n'\n",
      " '   <link '\n",
      " 'href=\"//www.redditstatic.com/desktop2x/img/favicon/apple-icon-57x57.png\" '\n",
      " 'rel=\"apple-touch-icon\" sizes=\"57x57\">\\n'\n",
      " '    <link '\n",
      " 'href=\"//www.redditstatic.com/desktop2x/img/favicon/apple-icon-60x60.png\" '\n",
      " 'rel=\"apple-touch-icon\" sizes=\"60x60\">\\n'\n",
      " '     <link '\n",
      " 'href=\"//www.redditstatic.com/desktop2x/img/favicon/apple-icon-72x72.png\" '\n",
      " 'rel=\"apple-touch-icon\" sizes')\n"
     ]
    }
   ],
   "source": [
    "pprint(soupified.prettify()[:2000]) # to get an idea of the html structure of the webpage "
   ]
  },
  {
   "cell_type": "code",
   "execution_count": 5,
   "metadata": {
    "colab": {
     "base_uri": "https://localhost:8080/"
    },
    "id": "XVE_tVznbp_E",
    "outputId": "cdf917d2-5cc8-452d-ca13-43bc7e8cbbf0"
   },
   "outputs": [
    {
     "data": {
      "text/plain": [
       "<title>Data Science</title>"
      ]
     },
     "execution_count": 5,
     "metadata": {},
     "output_type": "execute_result"
    }
   ],
   "source": [
    "soupified.title # to get the title of the web page "
   ]
  },
  {
   "cell_type": "code",
   "execution_count": 6,
   "metadata": {
    "id": "Lyad09UobqBx"
   },
   "outputs": [],
   "source": [
    "import requests\n",
    "# Headers to mimic a browser visit\n",
    "headers = {'User-Agent': 'Mozilla/5.0'}\n",
    "\n",
    "# Returns a requests.models.Response object\n",
    "page = requests.get(myurl, headers=headers)"
   ]
  },
  {
   "cell_type": "code",
   "execution_count": 7,
   "metadata": {
    "id": "5yscsS2ehEs6"
   },
   "outputs": [],
   "source": [
    "soupified = BeautifulSoup(page.text, 'html.parser')"
   ]
  },
  {
   "cell_type": "code",
   "execution_count": 8,
   "metadata": {
    "id": "6PorRR96bqEh"
   },
   "outputs": [],
   "source": [
    "domains = soupified.find_all(\"span\", class_=\"domain\")  #looks into itself for all the anchor tags with the parameters passed in as the second argument."
   ]
  },
  {
   "cell_type": "code",
   "execution_count": 9,
   "metadata": {
    "id": "No8vnG1GbqKC"
   },
   "outputs": [],
   "source": [
    "global domain\n",
    "for domain in domains:\n",
    "    if domain != \"(self.datascience)\":\n",
    "        continue\n",
    "\n",
    "    print(domain.text)"
   ]
  },
  {
   "cell_type": "code",
   "execution_count": 10,
   "metadata": {
    "id": "ejnuLZGdbqMn"
   },
   "outputs": [],
   "source": [
    "global parent_div\n",
    "for domain in soupified.find_all(\"span\", class_=\"domain\"):\n",
    "    if domain != \"(self.datascience)\":\n",
    "        continue\n",
    "\n",
    "    parent_div = domain.parent.parent.parent.parent\n",
    "    print(parent_div.text)"
   ]
  },
  {
   "cell_type": "code",
   "execution_count": 11,
   "metadata": {
    "colab": {
     "base_uri": "https://localhost:8080/"
    },
    "id": "LbDdYk6ubqPI",
    "outputId": "dba355d2-40b4-42c8-b637-9e3a768beb14"
   },
   "outputs": [
    {
     "name": "stdout",
     "output_type": "stream",
     "text": [
      "self.datascience\n",
      "self.datascience\n",
      "self.datascience\n",
      "self.datascience\n",
      "self.datascience\n",
      "self.datascience\n",
      "self.datascience\n",
      "self.datascience\n",
      "self.datascience\n",
      "self.datascience\n",
      "self.datascience\n",
      "self.datascience\n",
      "self.datascience\n",
      "self.datascience\n",
      "self.datascience\n",
      "self.datascience\n",
      "self.datascience\n",
      "self.datascience\n",
      "self.datascience\n",
      "self.datascience\n"
     ]
    }
   ],
   "source": [
    "attrs = {'class': 'thing', 'data-domain': 'self.datascience'}\n",
    "\n",
    "for post in soupified.find_all('div', attrs=attrs):\n",
    "    print(post.attrs['data-domain'])"
   ]
  },
  {
   "cell_type": "code",
   "execution_count": 12,
   "metadata": {
    "colab": {
     "base_uri": "https://localhost:8080/",
     "height": 36
    },
    "id": "f3vV7x6LbqRs",
    "outputId": "34067e55-ff97-46d7-d3f6-be8d541d555a"
   },
   "outputs": [
    {
     "data": {
      "text/plain": [
       "\"CareerRecent Graduate's Offer was Rescinded (self.datascience)\""
      ]
     },
     "execution_count": 12,
     "metadata": {},
     "output_type": "execute_result"
    }
   ],
   "source": [
    "title = post.find('p', class_=\"title\").text\n",
    "title"
   ]
  },
  {
   "cell_type": "code",
   "execution_count": 13,
   "metadata": {
    "colab": {
     "base_uri": "https://localhost:8080/",
     "height": 36
    },
    "id": "ZbPcrBGYbqUQ",
    "outputId": "27df20b8-2ccf-46ef-9a3c-92765ccd57dd"
   },
   "outputs": [
    {
     "data": {
      "text/plain": [
       "'wavehnter'"
      ]
     },
     "execution_count": 13,
     "metadata": {},
     "output_type": "execute_result"
    }
   ],
   "source": [
    "author = post.find('a', class_='author').text\n",
    "author"
   ]
  },
  {
   "cell_type": "code",
   "execution_count": 14,
   "metadata": {
    "colab": {
     "base_uri": "https://localhost:8080/",
     "height": 36
    },
    "id": "GeiDhPkibqW8",
    "outputId": "f08844e3-5094-4a6e-98a3-c2cd7e110315"
   },
   "outputs": [
    {
     "data": {
      "text/plain": [
       "'7 comments'"
      ]
     },
     "execution_count": 14,
     "metadata": {},
     "output_type": "execute_result"
    }
   ],
   "source": [
    "comments = post.find('a', class_='comments').text\n",
    "comments"
   ]
  },
  {
   "cell_type": "code",
   "execution_count": 15,
   "metadata": {
    "colab": {
     "base_uri": "https://localhost:8080/",
     "height": 36
    },
    "id": "FPptBjXqbqZY",
    "outputId": "b17f760b-48c6-40c2-e1c3-a25ef19cd836"
   },
   "outputs": [
    {
     "data": {
      "text/plain": [
       "'0'"
      ]
     },
     "execution_count": 15,
     "metadata": {},
     "output_type": "execute_result"
    }
   ],
   "source": [
    "likes = post.find(\"div\", attrs={\"class\": \"score likes\"}).text\n",
    "likes"
   ]
  },
  {
   "cell_type": "code",
   "execution_count": 17,
   "metadata": {
    "id": "AFBbX2NRbqbw"
   },
   "outputs": [],
   "source": [
    "import csv\n",
    "counter = 1\n",
    "for post in soupified.find_all('div', attrs=attrs):\n",
    "    post_line = [counter, title, author, likes, comments]\n",
    "    with open('output.csv', 'a') as f:\n",
    "        writer = csv.writer(f)\n",
    "        writer.writerow(post_line)\n",
    "\n",
    "    counter += 1"
   ]
  },
  {
   "cell_type": "code",
   "execution_count": 18,
   "metadata": {
    "colab": {
     "base_uri": "https://localhost:8080/"
    },
    "id": "3T_38tqDjOjR",
    "outputId": "0ff408d1-7670-4f70-a664-47ae3202e400"
   },
   "outputs": [
    {
     "data": {
      "text/plain": [
       "21"
      ]
     },
     "execution_count": 18,
     "metadata": {},
     "output_type": "execute_result"
    }
   ],
   "source": [
    "counter"
   ]
  },
  {
   "cell_type": "code",
   "execution_count": 19,
   "metadata": {
    "id": "mB9cCrn1bqek"
   },
   "outputs": [],
   "source": [
    "import pandas as pd\n",
    "a = pd.read_csv(\"output.csv\" )"
   ]
  },
  {
   "cell_type": "code",
   "execution_count": 20,
   "metadata": {
    "colab": {
     "base_uri": "https://localhost:8080/"
    },
    "id": "cjaUNJUuiid2",
    "outputId": "c07393c5-47d0-4dfb-d4d3-892698daf5e7"
   },
   "outputs": [
    {
     "data": {
      "text/plain": [
       "<bound method NDFrame.head of      1 CareerRecent Graduate's Offer was Rescinded (self.datascience)   \n",
       "0    2  CareerRecent Graduate's Offer was Rescinded (s...              \\\n",
       "1    3  CareerRecent Graduate's Offer was Rescinded (s...               \n",
       "2    4  CareerRecent Graduate's Offer was Rescinded (s...               \n",
       "3    5  CareerRecent Graduate's Offer was Rescinded (s...               \n",
       "4    6  CareerRecent Graduate's Offer was Rescinded (s...               \n",
       "5    7  CareerRecent Graduate's Offer was Rescinded (s...               \n",
       "6    8  CareerRecent Graduate's Offer was Rescinded (s...               \n",
       "7    9  CareerRecent Graduate's Offer was Rescinded (s...               \n",
       "8   10  CareerRecent Graduate's Offer was Rescinded (s...               \n",
       "9   11  CareerRecent Graduate's Offer was Rescinded (s...               \n",
       "10  12  CareerRecent Graduate's Offer was Rescinded (s...               \n",
       "11  13  CareerRecent Graduate's Offer was Rescinded (s...               \n",
       "12  14  CareerRecent Graduate's Offer was Rescinded (s...               \n",
       "13  15  CareerRecent Graduate's Offer was Rescinded (s...               \n",
       "14  16  CareerRecent Graduate's Offer was Rescinded (s...               \n",
       "15  17  CareerRecent Graduate's Offer was Rescinded (s...               \n",
       "16  18  CareerRecent Graduate's Offer was Rescinded (s...               \n",
       "17  19  CareerRecent Graduate's Offer was Rescinded (s...               \n",
       "18  20  CareerRecent Graduate's Offer was Rescinded (s...               \n",
       "\n",
       "    wavehnter  0  7 comments  \n",
       "0   wavehnter  0  7 comments  \n",
       "1   wavehnter  0  7 comments  \n",
       "2   wavehnter  0  7 comments  \n",
       "3   wavehnter  0  7 comments  \n",
       "4   wavehnter  0  7 comments  \n",
       "5   wavehnter  0  7 comments  \n",
       "6   wavehnter  0  7 comments  \n",
       "7   wavehnter  0  7 comments  \n",
       "8   wavehnter  0  7 comments  \n",
       "9   wavehnter  0  7 comments  \n",
       "10  wavehnter  0  7 comments  \n",
       "11  wavehnter  0  7 comments  \n",
       "12  wavehnter  0  7 comments  \n",
       "13  wavehnter  0  7 comments  \n",
       "14  wavehnter  0  7 comments  \n",
       "15  wavehnter  0  7 comments  \n",
       "16  wavehnter  0  7 comments  \n",
       "17  wavehnter  0  7 comments  \n",
       "18  wavehnter  0  7 comments  >"
      ]
     },
     "execution_count": 20,
     "metadata": {},
     "output_type": "execute_result"
    }
   ],
   "source": [
    "a.head"
   ]
  },
  {
   "cell_type": "code",
   "execution_count": 21,
   "metadata": {
    "colab": {
     "base_uri": "https://localhost:8080/"
    },
    "id": "3MnlxPULiiim",
    "outputId": "6a58b87f-a74a-441a-9a5a-858c38c94e08"
   },
   "outputs": [
    {
     "data": {
      "text/plain": [
       "(19, 5)"
      ]
     },
     "execution_count": 21,
     "metadata": {},
     "output_type": "execute_result"
    }
   ],
   "source": [
    "a.shape"
   ]
  },
  {
   "cell_type": "markdown",
   "metadata": {
    "id": "JFy2qhd5ltzr"
   },
   "source": [
    "# II) Regex"
   ]
  },
  {
   "cell_type": "code",
   "execution_count": 22,
   "metadata": {
    "id": "x7ZI__MKlsie"
   },
   "outputs": [],
   "source": [
    "corpus = \"User: I am unhappy, ahhhhh....huhhh...mehhh...hhhh. \\\n",
    "ELIZA: DO YOU THINK COMING HERE WILL HELP YOU NOT TO BE UNHAPPY?\\\n",
    "User: I need some help!!, that much seems certain. Can pay  2 Million $bucks for getting happy.\\\n",
    "ELIZA: WHAT WOULD IT MEAN TO YOU IF YOU GOT SOME HELP\\\n",
    "User: Perhaps I could learn to get along with my mother.\\\n",
    "ELIZA: TELL ME MORE ABOUT YOUR FAMILY \\\n",
    "User: My mother takes care of me.\\\n",
    "ELIZA: WHO ELSE IN YOU FAMILY TAKES CARE OF YOU? \\\n",
    "User: My father.\\\n",
    "ELIZA: YOUR FATHER \\\n",
    "User: You are like my father in some ways. \\\n",
    "ELIZA: You can always talk to me and also access my program on stanford.edu and can call for enquiry on +1-420-8374269\"\n",
    "\n",
    "\n",
    "#The dialogue above is from ELIZA, an early natural language processing system\n",
    "#that could carry on a limited conversation with a user by imitating the responses of a Rogerian psychotherapist"
   ]
  },
  {
   "cell_type": "code",
   "execution_count": 23,
   "metadata": {
    "colab": {
     "base_uri": "https://localhost:8080/",
     "height": 88
    },
    "id": "gddFQwOjlspQ",
    "outputId": "122ae6b3-09ac-44c6-8066-c6f3767ccdd6"
   },
   "outputs": [
    {
     "data": {
      "text/plain": [
       "'User: I am unhappy, ahhhhh....huhhh...mehhh...hhhh. ELIZA: DO YOU THINK COMING HERE WILL HELP YOU NOT TO BE UNHAPPY?User: I need some help!!, that much seems certain. Can pay  2 Million $bucks for getting happy.ELIZA: WHAT WOULD IT MEAN TO YOU IF YOU GOT SOME HELPUser: Perhaps I could learn to get along with my mother.ELIZA: TELL ME MORE ABOUT YOUR FAMILY User: My mother takes care of me.ELIZA: WHO ELSE IN YOU FAMILY TAKES CARE OF YOU? User: My father.ELIZA: YOUR FATHER User: You are like my father in some ways. ELIZA: You can always talk to me and also access my program on stanford.edu and can call for enquiry on +1-420-8374269'"
      ]
     },
     "execution_count": 23,
     "metadata": {},
     "output_type": "execute_result"
    }
   ],
   "source": [
    "import re\n",
    "corpus"
   ]
  },
  {
   "cell_type": "code",
   "execution_count": 24,
   "metadata": {
    "colab": {
     "base_uri": "https://localhost:8080/"
    },
    "id": "zt8B9ZGilssI",
    "outputId": "a625bddd-f2c8-480a-a2a4-5d720fbdf109"
   },
   "outputs": [
    {
     "name": "stdout",
     "output_type": "stream",
     "text": [
      "User: I am unhappy, ahhhhh....huhhh...mehhh...hhhh. ELIZA: DO YOU THINK COMING HERE WILL HELP YOU NOT TO BE UNHAPPY?User: I need some help!!, that much seems certain. Can pay  2 Million $bucks for getting happy.ELIZA: WHAT WOULD IT MEAN TO YOU IF YOU GOT SOME HELPUser: Perhaps I could learn to get along with my mother.ELIZA: TELL ME MORE ABOUT YOUR FAMILY User: My mother takes care of me.ELIZA: WHO ELSE IN YOU FAMILY TAKES CARE OF YOU? User: My father.ELIZA: YOUR FATHER User: You are like my father in some ways. ELIZA: You can always talk to me and also access my program on  and can call for enquiry on +1-420-8374269\n"
     ]
    }
   ],
   "source": [
    "substituted_string = re.sub(r'\\S+(.edu){1}', '', corpus) #remove website from the given text.\n",
    "print(substituted_string)"
   ]
  },
  {
   "cell_type": "code",
   "execution_count": 25,
   "metadata": {
    "colab": {
     "base_uri": "https://localhost:8080/"
    },
    "id": "1k9pkS7Ulsuu",
    "outputId": "ac4bcfa1-5ca3-4255-8b8e-0c78cc59596b"
   },
   "outputs": [
    {
     "name": "stdout",
     "output_type": "stream",
     "text": [
      "<HIDDEN>r: I am unhappy, <HIDDEN> ELIZA: DO YOU THINK COMING HERE WILL HELP YOU NOT TO BE <HIDDEN>r: I <HIDDEN> <HIDDEN> <HIDDEN>lp!!, that <HIDDEN>ch <HIDDEN>ms <HIDDEN> Can pay  2 Million <HIDDEN>cks for <HIDDEN>tting <HIDDEN>ELIZA: WHAT WOULD IT MEAN TO YOU IF YOU GOT SOME <HIDDEN>r: <HIDDEN>rhaps I <HIDDEN> <HIDDEN>arn to <HIDDEN>t along with my <HIDDEN>ELIZA: TELL ME MORE ABOUT YOUR FAMILY <HIDDEN>r: My <HIDDEN>r <HIDDEN>s <HIDDEN> of <HIDDEN>ELIZA: WHO ELSE IN YOU FAMILY TAKES CARE OF YOU? <HIDDEN>r: My <HIDDEN>ELIZA: YOUR FATHER <HIDDEN>r: <HIDDEN> <HIDDEN> <HIDDEN> my <HIDDEN>r in <HIDDEN> <HIDDEN> ELIZA: <HIDDEN> can always talk to <HIDDEN> <HIDDEN> also <HIDDEN>ss my program on <HIDDEN> <HIDDEN> can call for <HIDDEN>iry on <HIDDEN>\n"
     ]
    }
   ],
   "source": [
    "re.findall('\\S+[.com]{1}|\\+[0-9]{1}-[0-9]{3}-[0-9]{7}', corpus)\n",
    "#tagging all contact information as hidden\n",
    "redacted = re.sub('\\S+[.edu]{1}|\\+[0-9]{1}-[0-9]{3}-[0-9]{7}', '<HIDDEN>', corpus)\n",
    "\n",
    "print(redacted)"
   ]
  },
  {
   "cell_type": "code",
   "execution_count": 26,
   "metadata": {
    "colab": {
     "base_uri": "https://localhost:8080/"
    },
    "id": "OaCbX3xYlsxc",
    "outputId": "bcdcaa6d-439e-45a0-ddb0-2f0c69f7806a"
   },
   "outputs": [
    {
     "name": "stdout",
     "output_type": "stream",
     "text": [
      "['2', '1', '4', '2', '0', '8', '3', '7', '4', '2', '6', '9']\n",
      "Yes, there is at least one match!\n"
     ]
    }
   ],
   "source": [
    "#Check if the string contains any digits (numbers from 0-9):\n",
    "\n",
    "x = re.findall(\"\\d\", corpus)\n",
    "print(x)\n",
    "\n",
    "if (x):\n",
    "  print(\"Yes, there is at least one match!\")\n",
    "else:\n",
    "  print(\"No match\")"
   ]
  },
  {
   "cell_type": "code",
   "execution_count": 27,
   "metadata": {
    "id": "TWyMbTw9ls0D"
   },
   "outputs": [],
   "source": [
    "def multi_re_find(patterns,phrase):\n",
    "    '''\n",
    "    Takes in a list of regex patterns\n",
    "    Prints a list of all matches\n",
    "    '''\n",
    "    for pattern in patterns:\n",
    "        print ('Searching the phrase using the re check: %r' %pattern)\n",
    "        print (re.findall(pattern,phrase))\n",
    "        print ('\\n')"
   ]
  },
  {
   "cell_type": "code",
   "execution_count": 28,
   "metadata": {
    "colab": {
     "base_uri": "https://localhost:8080/"
    },
    "id": "6Z8jZBQMls22",
    "outputId": "cb546f18-0028-4aa4-85ef-7095a63b3a02"
   },
   "outputs": [
    {
     "name": "stdout",
     "output_type": "stream",
     "text": [
      "Searching the phrase using the re check: '[a-z]+'\n",
      "['ser', 'am', 'unhappy', 'ahhhhh', 'huhhh', 'mehhh', 'hhhh', 'ser', 'need', 'some', 'help', 'that', 'much', 'seems', 'certain', 'an', 'pay', 'illion', 'bucks', 'for', 'getting', 'happy', 'ser', 'erhaps', 'could', 'learn', 'to', 'get', 'along', 'with', 'my', 'mother', 'ser', 'y', 'mother', 'takes', 'care', 'of', 'me', 'ser', 'y', 'father', 'ser', 'ou', 'are', 'like', 'my', 'father', 'in', 'some', 'ways', 'ou', 'can', 'always', 'talk', 'to', 'me', 'and', 'also', 'access', 'my', 'program', 'on', 'stanford', 'edu', 'and', 'can', 'call', 'for', 'enquiry', 'on']\n",
      "\n",
      "\n",
      "Searching the phrase using the re check: '[A-Z]+'\n",
      "['U', 'I', 'ELIZA', 'DO', 'YOU', 'THINK', 'COMING', 'HERE', 'WILL', 'HELP', 'YOU', 'NOT', 'TO', 'BE', 'UNHAPPY', 'U', 'I', 'C', 'M', 'ELIZA', 'WHAT', 'WOULD', 'IT', 'MEAN', 'TO', 'YOU', 'IF', 'YOU', 'GOT', 'SOME', 'HELPU', 'P', 'I', 'ELIZA', 'TELL', 'ME', 'MORE', 'ABOUT', 'YOUR', 'FAMILY', 'U', 'M', 'ELIZA', 'WHO', 'ELSE', 'IN', 'YOU', 'FAMILY', 'TAKES', 'CARE', 'OF', 'YOU', 'U', 'M', 'ELIZA', 'YOUR', 'FATHER', 'U', 'Y', 'ELIZA', 'Y']\n",
      "\n",
      "\n",
      "Searching the phrase using the re check: '[a-zA-Z]+'\n",
      "['User', 'I', 'am', 'unhappy', 'ahhhhh', 'huhhh', 'mehhh', 'hhhh', 'ELIZA', 'DO', 'YOU', 'THINK', 'COMING', 'HERE', 'WILL', 'HELP', 'YOU', 'NOT', 'TO', 'BE', 'UNHAPPY', 'User', 'I', 'need', 'some', 'help', 'that', 'much', 'seems', 'certain', 'Can', 'pay', 'Million', 'bucks', 'for', 'getting', 'happy', 'ELIZA', 'WHAT', 'WOULD', 'IT', 'MEAN', 'TO', 'YOU', 'IF', 'YOU', 'GOT', 'SOME', 'HELPUser', 'Perhaps', 'I', 'could', 'learn', 'to', 'get', 'along', 'with', 'my', 'mother', 'ELIZA', 'TELL', 'ME', 'MORE', 'ABOUT', 'YOUR', 'FAMILY', 'User', 'My', 'mother', 'takes', 'care', 'of', 'me', 'ELIZA', 'WHO', 'ELSE', 'IN', 'YOU', 'FAMILY', 'TAKES', 'CARE', 'OF', 'YOU', 'User', 'My', 'father', 'ELIZA', 'YOUR', 'FATHER', 'User', 'You', 'are', 'like', 'my', 'father', 'in', 'some', 'ways', 'ELIZA', 'You', 'can', 'always', 'talk', 'to', 'me', 'and', 'also', 'access', 'my', 'program', 'on', 'stanford', 'edu', 'and', 'can', 'call', 'for', 'enquiry', 'on']\n",
      "\n",
      "\n",
      "Searching the phrase using the re check: '[A-Z][a-z]+'\n",
      "['User', 'User', 'Can', 'Million', 'User', 'Perhaps', 'User', 'My', 'User', 'My', 'User', 'You', 'You']\n",
      "\n",
      "\n"
     ]
    }
   ],
   "source": [
    "test_patterns=[ '[a-z]+',      # sequences of lower case letters\n",
    "                '[A-Z]+',      # sequences of upper case letters\n",
    "                '[a-zA-Z]+',   # sequences of lower or upper case letters\n",
    "                '[A-Z][a-z]+'] # one upper case letter followed by lower case letters\n",
    "                \n",
    "multi_re_find(test_patterns,corpus)"
   ]
  },
  {
   "cell_type": "code",
   "execution_count": 29,
   "metadata": {
    "colab": {
     "base_uri": "https://localhost:8080/"
    },
    "id": "z36mdsxzls8S",
    "outputId": "ede2e3c7-334b-43e1-d17c-00ba531f340c"
   },
   "outputs": [
    {
     "name": "stdout",
     "output_type": "stream",
     "text": [
      "Searching the phrase using the re check: 'ah*'\n",
      "['a', 'a', 'ahhhhh', 'a', 'a', 'a', 'a', 'a', 'a', 'a', 'a', 'a', 'a', 'a', 'a', 'a', 'a', 'a', 'a', 'a', 'a', 'a', 'a', 'a', 'a', 'a', 'a', 'a', 'a']\n",
      "\n",
      "\n",
      "Searching the phrase using the re check: 'EL+'\n",
      "['EL', 'EL', 'EL', 'EL', 'EL', 'ELL', 'EL', 'EL', 'EL', 'EL']\n",
      "\n",
      "\n",
      "Searching the phrase using the re check: 'me?'\n",
      "['m', 'me', 'me', 'm', 'm', 'm', 'm', 'm', 'me', 'm', 'me', 'me', 'm', 'm']\n",
      "\n",
      "\n",
      "Searching the phrase using the re check: 'huh{2}'\n",
      "['huhh']\n",
      "\n",
      "\n",
      "Searching the phrase using the re check: 'hh{2,3}'\n",
      "['hhhh', 'hhh', 'hhh', 'hhhh']\n",
      "\n",
      "\n"
     ]
    }
   ],
   "source": [
    "test_patterns = [ 'ah*',     # a followed by zero or more h's\n",
    "                'EL+',          # E followed by one or more L's\n",
    "                'me?',          # m followed by zero or one e's\n",
    "                'huh{2}',        # h followed by two h's\n",
    "                'hh{2,3}',      # h followed by two to three h's\n",
    "                ]\n",
    "\n",
    "multi_re_find(test_patterns,corpus)"
   ]
  },
  {
   "cell_type": "code",
   "execution_count": 30,
   "metadata": {
    "colab": {
     "base_uri": "https://localhost:8080/"
    },
    "id": "R-IApkLvls-8",
    "outputId": "a64621c3-a1d8-4954-c023-0fba57d8acda"
   },
   "outputs": [
    {
     "name": "stdout",
     "output_type": "stream",
     "text": [
      "Searching the phrase using the re check: '\\\\d+'\n",
      "['2', '1', '420', '8374269']\n",
      "\n",
      "\n",
      "Searching the phrase using the re check: '\\\\D+'\n",
      "['User: I am unhappy, ahhhhh....huhhh...mehhh...hhhh. ELIZA: DO YOU THINK COMING HERE WILL HELP YOU NOT TO BE UNHAPPY?User: I need some help!!, that much seems certain. Can pay  ', ' Million $bucks for getting happy.ELIZA: WHAT WOULD IT MEAN TO YOU IF YOU GOT SOME HELPUser: Perhaps I could learn to get along with my mother.ELIZA: TELL ME MORE ABOUT YOUR FAMILY User: My mother takes care of me.ELIZA: WHO ELSE IN YOU FAMILY TAKES CARE OF YOU? User: My father.ELIZA: YOUR FATHER User: You are like my father in some ways. ELIZA: You can always talk to me and also access my program on stanford.edu and can call for enquiry on +', '-', '-']\n",
      "\n",
      "\n",
      "Searching the phrase using the re check: '\\\\s+'\n",
      "[' ', ' ', ' ', ' ', ' ', ' ', ' ', ' ', ' ', ' ', ' ', ' ', ' ', ' ', ' ', ' ', ' ', ' ', ' ', ' ', ' ', ' ', ' ', ' ', ' ', ' ', ' ', '  ', ' ', ' ', ' ', ' ', ' ', ' ', ' ', ' ', ' ', ' ', ' ', ' ', ' ', ' ', ' ', ' ', ' ', ' ', ' ', ' ', ' ', ' ', ' ', ' ', ' ', ' ', ' ', ' ', ' ', ' ', ' ', ' ', ' ', ' ', ' ', ' ', ' ', ' ', ' ', ' ', ' ', ' ', ' ', ' ', ' ', ' ', ' ', ' ', ' ', ' ', ' ', ' ', ' ', ' ', ' ', ' ', ' ', ' ', ' ', ' ', ' ', ' ', ' ', ' ', ' ', ' ', ' ', ' ', ' ', ' ', ' ', ' ', ' ', ' ', ' ', ' ', ' ', ' ', ' ', ' ', ' ', ' ', ' ']\n",
      "\n",
      "\n",
      "Searching the phrase using the re check: '\\\\S+'\n",
      "['User:', 'I', 'am', 'unhappy,', 'ahhhhh....huhhh...mehhh...hhhh.', 'ELIZA:', 'DO', 'YOU', 'THINK', 'COMING', 'HERE', 'WILL', 'HELP', 'YOU', 'NOT', 'TO', 'BE', 'UNHAPPY?User:', 'I', 'need', 'some', 'help!!,', 'that', 'much', 'seems', 'certain.', 'Can', 'pay', '2', 'Million', '$bucks', 'for', 'getting', 'happy.ELIZA:', 'WHAT', 'WOULD', 'IT', 'MEAN', 'TO', 'YOU', 'IF', 'YOU', 'GOT', 'SOME', 'HELPUser:', 'Perhaps', 'I', 'could', 'learn', 'to', 'get', 'along', 'with', 'my', 'mother.ELIZA:', 'TELL', 'ME', 'MORE', 'ABOUT', 'YOUR', 'FAMILY', 'User:', 'My', 'mother', 'takes', 'care', 'of', 'me.ELIZA:', 'WHO', 'ELSE', 'IN', 'YOU', 'FAMILY', 'TAKES', 'CARE', 'OF', 'YOU?', 'User:', 'My', 'father.ELIZA:', 'YOUR', 'FATHER', 'User:', 'You', 'are', 'like', 'my', 'father', 'in', 'some', 'ways.', 'ELIZA:', 'You', 'can', 'always', 'talk', 'to', 'me', 'and', 'also', 'access', 'my', 'program', 'on', 'stanford.edu', 'and', 'can', 'call', 'for', 'enquiry', 'on', '+1-420-8374269']\n",
      "\n",
      "\n",
      "Searching the phrase using the re check: '\\\\w+'\n",
      "['User', 'I', 'am', 'unhappy', 'ahhhhh', 'huhhh', 'mehhh', 'hhhh', 'ELIZA', 'DO', 'YOU', 'THINK', 'COMING', 'HERE', 'WILL', 'HELP', 'YOU', 'NOT', 'TO', 'BE', 'UNHAPPY', 'User', 'I', 'need', 'some', 'help', 'that', 'much', 'seems', 'certain', 'Can', 'pay', '2', 'Million', 'bucks', 'for', 'getting', 'happy', 'ELIZA', 'WHAT', 'WOULD', 'IT', 'MEAN', 'TO', 'YOU', 'IF', 'YOU', 'GOT', 'SOME', 'HELPUser', 'Perhaps', 'I', 'could', 'learn', 'to', 'get', 'along', 'with', 'my', 'mother', 'ELIZA', 'TELL', 'ME', 'MORE', 'ABOUT', 'YOUR', 'FAMILY', 'User', 'My', 'mother', 'takes', 'care', 'of', 'me', 'ELIZA', 'WHO', 'ELSE', 'IN', 'YOU', 'FAMILY', 'TAKES', 'CARE', 'OF', 'YOU', 'User', 'My', 'father', 'ELIZA', 'YOUR', 'FATHER', 'User', 'You', 'are', 'like', 'my', 'father', 'in', 'some', 'ways', 'ELIZA', 'You', 'can', 'always', 'talk', 'to', 'me', 'and', 'also', 'access', 'my', 'program', 'on', 'stanford', 'edu', 'and', 'can', 'call', 'for', 'enquiry', 'on', '1', '420', '8374269']\n",
      "\n",
      "\n",
      "Searching the phrase using the re check: '\\\\W+'\n",
      "[': ', ' ', ' ', ', ', '....', '...', '...', '. ', ': ', ' ', ' ', ' ', ' ', ' ', ' ', ' ', ' ', ' ', ' ', ' ', '?', ': ', ' ', ' ', ' ', '!!, ', ' ', ' ', ' ', '. ', ' ', '  ', ' ', ' $', ' ', ' ', ' ', '.', ': ', ' ', ' ', ' ', ' ', ' ', ' ', ' ', ' ', ' ', ' ', ': ', ' ', ' ', ' ', ' ', ' ', ' ', ' ', ' ', ' ', '.', ': ', ' ', ' ', ' ', ' ', ' ', ' ', ': ', ' ', ' ', ' ', ' ', ' ', '.', ': ', ' ', ' ', ' ', ' ', ' ', ' ', ' ', ' ', '? ', ': ', ' ', '.', ': ', ' ', ' ', ': ', ' ', ' ', ' ', ' ', ' ', ' ', ' ', '. ', ': ', ' ', ' ', ' ', ' ', ' ', ' ', ' ', ' ', ' ', ' ', ' ', ' ', '.', ' ', ' ', ' ', ' ', ' ', ' ', ' +', '-', '-']\n",
      "\n",
      "\n"
     ]
    }
   ],
   "source": [
    "test_patterns=[ r'\\d+', # sequence of digits\n",
    "                r'\\D+', # sequence of non-digits\n",
    "                r'\\s+', # sequence of whitespace\n",
    "                r'\\S+', # sequence of non-whitespace\n",
    "                r'\\w+', # alphanumeric characters\n",
    "                r'\\W+', # non-alphanumeric\n",
    "                ]\n",
    "\n",
    "multi_re_find(test_patterns,corpus)"
   ]
  },
  {
   "cell_type": "code",
   "execution_count": 31,
   "metadata": {
    "colab": {
     "base_uri": "https://localhost:8080/"
    },
    "id": "FcsCoWGNls5a",
    "outputId": "e595637e-6ee9-42d5-b483-2c2bfb9ad02d"
   },
   "outputs": [
    {
     "data": {
      "text/plain": [
       "['User:',\n",
       " 'I',\n",
       " 'am',\n",
       " 'unhappy,',\n",
       " 'ahhhhh',\n",
       " 'huhhh',\n",
       " 'mehhh',\n",
       " 'hhhh',\n",
       " 'ELIZA:',\n",
       " 'DO',\n",
       " 'YOU',\n",
       " 'THINK',\n",
       " 'COMING',\n",
       " 'HERE',\n",
       " 'WILL',\n",
       " 'HELP',\n",
       " 'YOU',\n",
       " 'NOT',\n",
       " 'TO',\n",
       " 'BE',\n",
       " 'UNHAPPY',\n",
       " 'User:',\n",
       " 'I',\n",
       " 'need',\n",
       " 'some',\n",
       " 'help',\n",
       " ',',\n",
       " 'that',\n",
       " 'much',\n",
       " 'seems',\n",
       " 'certain',\n",
       " 'Can',\n",
       " 'pay',\n",
       " '2',\n",
       " 'Million',\n",
       " '$bucks',\n",
       " 'for',\n",
       " 'getting',\n",
       " 'happy',\n",
       " 'ELIZA:',\n",
       " 'WHAT',\n",
       " 'WOULD',\n",
       " 'IT',\n",
       " 'MEAN',\n",
       " 'TO',\n",
       " 'YOU',\n",
       " 'IF',\n",
       " 'YOU',\n",
       " 'GOT',\n",
       " 'SOME',\n",
       " 'HELPUser:',\n",
       " 'Perhaps',\n",
       " 'I',\n",
       " 'could',\n",
       " 'learn',\n",
       " 'to',\n",
       " 'get',\n",
       " 'along',\n",
       " 'with',\n",
       " 'my',\n",
       " 'mother',\n",
       " 'ELIZA:',\n",
       " 'TELL',\n",
       " 'ME',\n",
       " 'MORE',\n",
       " 'ABOUT',\n",
       " 'YOUR',\n",
       " 'FAMILY',\n",
       " 'User:',\n",
       " 'My',\n",
       " 'mother',\n",
       " 'takes',\n",
       " 'care',\n",
       " 'of',\n",
       " 'me',\n",
       " 'ELIZA:',\n",
       " 'WHO',\n",
       " 'ELSE',\n",
       " 'IN',\n",
       " 'YOU',\n",
       " 'FAMILY',\n",
       " 'TAKES',\n",
       " 'CARE',\n",
       " 'OF',\n",
       " 'YOU',\n",
       " 'User:',\n",
       " 'My',\n",
       " 'father',\n",
       " 'ELIZA:',\n",
       " 'YOUR',\n",
       " 'FATHER',\n",
       " 'User:',\n",
       " 'You',\n",
       " 'are',\n",
       " 'like',\n",
       " 'my',\n",
       " 'father',\n",
       " 'in',\n",
       " 'some',\n",
       " 'ways',\n",
       " 'ELIZA:',\n",
       " 'You',\n",
       " 'can',\n",
       " 'always',\n",
       " 'talk',\n",
       " 'to',\n",
       " 'me',\n",
       " 'and',\n",
       " 'also',\n",
       " 'access',\n",
       " 'my',\n",
       " 'program',\n",
       " 'on',\n",
       " 'stanford',\n",
       " 'edu',\n",
       " 'and',\n",
       " 'can',\n",
       " 'call',\n",
       " 'for',\n",
       " 'enquiry',\n",
       " 'on',\n",
       " '+1-420-8374269']"
      ]
     },
     "execution_count": 31,
     "metadata": {},
     "output_type": "execute_result"
    }
   ],
   "source": [
    "re.findall('[^!.? ]+',corpus)"
   ]
  },
  {
   "cell_type": "markdown",
   "metadata": {
    "id": "I6DKCpm_jE8g"
   },
   "source": [
    "# Conclusion\n",
    "1) Anything which we can see on the web can be scraped and stored locally. We can use the information we just acquired for a multitude of purposes. With just the fours pieces of information we found, we can draw up a lot of conclusions.   \n",
    "2) By analyzing our information further, we can figure which kind of posts receive the most likes, what words they contain, who they’re posted by. Or conversely, we can find make a controversy calculator by analyzing the ratio of likes to comments.               \n",
    "3) BeautifulSoup is one of the many libraries which allow us to scrape web pages. Depending on our needs we can choose between the many available choices like beautifulsoup, scrapy, selenium, etc.         \n",
    "4) It’s important to keep in mind that it’s pretty nice of the website even to allow us to scrape them because if they wanted, they could detect bots in the first 10 to 20 requests, or even catch us based on the request object that Python sends. So its our responsibility to Scrape responsibly and not overload the host server.                     \n",
    "\n",
    "5) A regular expression (shortened as regex or regexp; sometimes referred to as rational expression) is a sequence of characters that specifies a search pattern in text. Usually such patterns are used by string-searching algorithms for \"find\" or \"find and replace\" operations on strings, or for input validation.                     \n",
    "6) 're' module provides regular expression matching operations similar to those found in Perl.          \n",
    "7) Both patterns and strings to be searched can be Unicode strings (str) as well as 8-bit strings (bytes). However, Unicode strings and 8-bit strings cannot be mixed"
   ]
  }
 ],
 "metadata": {
  "colab": {
   "provenance": []
  },
  "kernelspec": {
   "display_name": "Python 3.10 (tensorflow)",
   "language": "python",
   "name": "tensorflow"
  },
  "language_info": {
   "codemirror_mode": {
    "name": "ipython",
    "version": 3
   },
   "file_extension": ".py",
   "mimetype": "text/x-python",
   "name": "python",
   "nbconvert_exporter": "python",
   "pygments_lexer": "ipython3",
   "version": "3.10.11"
  }
 },
 "nbformat": 4,
 "nbformat_minor": 1
}
